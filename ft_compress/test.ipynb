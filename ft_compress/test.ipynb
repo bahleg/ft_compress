{
 "cells": [
  {
   "cell_type": "code",
   "execution_count": 5,
   "metadata": {},
   "outputs": [],
   "source": [
    "import fasttext\n",
    "import numpy as np\n",
    "import sys\n",
    "sys.path.append('..')"
   ]
  },
  {
   "cell_type": "code",
   "execution_count": 2,
   "metadata": {},
   "outputs": [
    {
     "name": "stderr",
     "output_type": "stream",
     "text": "[2020-01-11 00:33:12,522] [DEBUG] - hello\n"
    }
   ],
   "source": [
    "import logging\n",
    "log_format = '[%(asctime)s] [%(levelname)s] - %(message)s'\n",
    "logging.basicConfig(level=logging.DEBUG, format=log_format)\n",
    "log = logging.getLogger(__name__)\n",
    "\n",
    "# writing to stdout\n",
    "handler = logging.StreamHandler(sys.stdout)\n",
    "handler.setLevel(logging.DEBUG)\n",
    "handler.setFormatter(log_format)\n",
    "log.addHandler(handler)\n",
    "logging.debug('hello')"
   ]
  },
  {
   "cell_type": "code",
   "execution_count": 3,
   "metadata": {},
   "outputs": [
    {
     "name": "stderr",
     "output_type": "stream",
     "text": "\n"
    }
   ],
   "source": [
    "model = fasttext.load_model('/home/legin/fasttext/wiki.en.bin')"
   ]
  },
  {
   "cell_type": "code",
   "execution_count": 6,
   "metadata": {},
   "outputs": [
    {
     "data": {
      "text/plain": "<module 'compressors.dumb' from '/home/legin/ft_compress/ft_compress/compressors/dumb.py'>"
     },
     "execution_count": 6,
     "metadata": {},
     "output_type": "execute_result"
    }
   ],
   "source": [
    "import compressors.dumb as d \n",
    "import storages.dict_based as db \n",
    "from importlib import reload\n",
    "reload(d)"
   ]
  },
  {
   "cell_type": "code",
   "execution_count": 7,
   "metadata": {},
   "outputs": [],
   "source": [
    "dc = d.DumbCompressor(db.DictStorage()) #~50% percents"
   ]
  },
  {
   "cell_type": "code",
   "execution_count": 9,
   "metadata": {},
   "outputs": [
    {
     "name": "stderr",
     "output_type": "stream",
     "text": "[2020-01-11 00:34:14,307] [DEBUG] - loading words\n[2020-01-11 00:34:38,677] [DEBUG] - filling matrix\n"
    },
    {
     "ename": "TypeError",
     "evalue": "'numpy.int64' object is not iterable",
     "output_type": "error",
     "traceback": [
      "\u001b[0;31m---------------------------------------------------------------------------\u001b[0m",
      "\u001b[0;31mTypeError\u001b[0m                                 Traceback (most recent call last)",
      "\u001b[0;32m<ipython-input-9-1656d66955b5>\u001b[0m in \u001b[0;36m<module>\u001b[0;34m\u001b[0m\n\u001b[0;32m----> 1\u001b[0;31m \u001b[0mdc\u001b[0m\u001b[0;34m.\u001b[0m\u001b[0mfit\u001b[0m\u001b[0;34m(\u001b[0m\u001b[0mmodel\u001b[0m\u001b[0;34m)\u001b[0m\u001b[0;34m\u001b[0m\u001b[0m\n\u001b[0m",
      "\u001b[0;32m~/ft_compress/ft_compress/compressors/dumb.py\u001b[0m in \u001b[0;36mfit\u001b[0;34m(self, ft_model, maxsize)\u001b[0m\n\u001b[1;32m     20\u001b[0m                 \u001b[0mself\u001b[0m\u001b[0;34m.\u001b[0m\u001b[0mngrams\u001b[0m \u001b[0;34m=\u001b[0m \u001b[0mi\u001b[0m\u001b[0;34m\u001b[0m\u001b[0m\n\u001b[1;32m     21\u001b[0m         \u001b[0mlogging\u001b[0m\u001b[0;34m.\u001b[0m\u001b[0mdebug\u001b[0m\u001b[0;34m(\u001b[0m\u001b[0;34m'filling matrix'\u001b[0m\u001b[0;34m)\u001b[0m\u001b[0;34m\u001b[0m\u001b[0m\n\u001b[0;32m---> 22\u001b[0;31m         \u001b[0;32mfor\u001b[0m \u001b[0mnew_id\u001b[0m\u001b[0;34m,\u001b[0m\u001b[0mn\u001b[0m \u001b[0;32min\u001b[0m \u001b[0menumerate\u001b[0m\u001b[0;34m(\u001b[0m\u001b[0mself\u001b[0m\u001b[0;34m.\u001b[0m\u001b[0mngrams\u001b[0m\u001b[0;34m)\u001b[0m\u001b[0;34m:\u001b[0m\u001b[0;34m\u001b[0m\u001b[0m\n\u001b[0m\u001b[1;32m     23\u001b[0m             \u001b[0mold_id\u001b[0m \u001b[0;34m=\u001b[0m \u001b[0mself\u001b[0m\u001b[0;34m.\u001b[0m\u001b[0mngrams\u001b[0m\u001b[0;34m[\u001b[0m\u001b[0mn\u001b[0m\u001b[0;34m]\u001b[0m\u001b[0;34m\u001b[0m\u001b[0m\n\u001b[1;32m     24\u001b[0m             \u001b[0mself\u001b[0m\u001b[0;34m.\u001b[0m\u001b[0mstorage\u001b[0m\u001b[0;34m[\u001b[0m\u001b[0;34m'ngrams'\u001b[0m\u001b[0;34m]\u001b[0m\u001b[0;34m[\u001b[0m\u001b[0mn\u001b[0m\u001b[0;34m]\u001b[0m \u001b[0;34m=\u001b[0m \u001b[0mself\u001b[0m\u001b[0;34m.\u001b[0m\u001b[0mvector_to_bytes\u001b[0m\u001b[0;34m(\u001b[0m\u001b[0mft_model\u001b[0m\u001b[0;34m.\u001b[0m\u001b[0mget_input_vector\u001b[0m\u001b[0;34m(\u001b[0m\u001b[0mold_id\u001b[0m\u001b[0;34m)\u001b[0m\u001b[0;34m)\u001b[0m\u001b[0;34m\u001b[0m\u001b[0m\n",
      "\u001b[0;31mTypeError\u001b[0m: 'numpy.int64' object is not iterable"
     ]
    }
   ],
   "source": [
    "dc.fit(model)"
   ]
  },
  {
   "cell_type": "code",
   "execution_count": 12,
   "metadata": {},
   "outputs": [
    {
     "data": {
      "text/plain": "3299"
     },
     "execution_count": 12,
     "metadata": {},
     "output_type": "execute_result"
    }
   ],
   "source": [
    "#del dc\n",
    "import gc \n",
    "gc.collect()"
   ]
  },
  {
   "cell_type": "code",
   "execution_count": 4,
   "metadata": {},
   "outputs": [
    {
     "data": {
      "text/plain": [
       "<module 'compressors.compressor8' from '/home/legin/ft_compress/ft_compress/compressors/compressor8.py'>"
      ]
     },
     "execution_count": 4,
     "metadata": {},
     "output_type": "execute_result"
    }
   ],
   "source": [
    "import compressors.compressor8 as d \n",
    "from importlib import reload\n",
    "reload(d)"
   ]
  },
  {
   "cell_type": "code",
   "execution_count": 5,
   "metadata": {},
   "outputs": [
    {
     "name": "stderr",
     "output_type": "stream",
     "text": [
      "[2020-01-04 23:04:07,559] [DEBUG] - Loading words\n",
      "[2020-01-04 23:04:16,689] [WARNING] - Too many ngrams, breaking\n",
      "[2020-01-04 23:04:16,690] [WARNING] - Too many ngrams, breaking\n",
      "[2020-01-04 23:04:16,690] [DEBUG] - Estimating parameters\n",
      "[2020-01-04 23:04:37,513] [DEBUG] - filling matrix\n",
      "[2020-01-04 23:05:07,033] [DEBUG] - ready\n"
     ]
    }
   ],
   "source": [
    "dc = d.Compressor8bit(model, 2500000) #~50% percents"
   ]
  },
  {
   "cell_type": "code",
   "execution_count": 103,
   "metadata": {},
   "outputs": [
    {
     "name": "stderr",
     "output_type": "stream",
     "text": [
      "/home/legin/.local/lib/python3.5/site-packages/ipykernel_launcher.py:1: DeprecationWarning: The binary mode of fromstring is deprecated, as it behaves surprisingly on unicode inputs. Use frombuffer instead\n",
      "  \"\"\"Entry point for launching an IPython kernel.\n"
     ]
    },
    {
     "data": {
      "text/plain": [
       "array([133,  67,  94,  53, 127, 134, 112,  69,  98, 151,  69,  78, 130,\n",
       "       110,  98,  59,  55,  41, 106, 118, 134, 143,  88, 105,  95, 109,\n",
       "       103, 103, 121, 134, 100,  37,  69, 113, 110, 132,  54,  67,  60,\n",
       "       119, 103, 136,  80,  76,  52,  42,  33,  57,  66,  88, 103,  89,\n",
       "       116, 166, 170,  92, 113, 117, 109,  83, 119,  71, 145, 130,  29,\n",
       "       138, 138,  75, 114,  96,  90,  79,  43, 130, 181,  83,  13,  27,\n",
       "        63, 102,  21, 110, 148, 106, 144,  73,  99,   0,  92,  82, 156,\n",
       "       120,  63, 168,  49, 115,  45, 103,  93, 114,  91, 139,  72, 102,\n",
       "        61, 151,  76,  65, 151,  97,  43, 144, 157,  52,  25, 154,  57,\n",
       "        79,  73,  36,  28,  90, 151,  95,  45,  55,  91,  59, 124,  41,\n",
       "       106, 141, 207,  87, 107,  92, 154,  73, 129,  90,  89,  54,  12,\n",
       "        39, 111,  80, 182, 124,  71,  37,  63,  82, 151, 121, 100, 114,\n",
       "        73,  94, 117, 153, 105, 101,  56, 114, 139, 111,  93, 158,  97,\n",
       "        90,  85, 110, 115,  60,  95,  46,  74,  70,  74, 145,  59, 148,\n",
       "        43, 125, 118, 130,  75,  23,  14,  86,  58, 152,   1,  71, 100,\n",
       "       105, 118, 111, 162, 109,  59, 125,  21,  71, 121, 110, 125,  88,\n",
       "        88,  15,  33,  61,   7,  59,  55,  62, 143, 105,  85, 100, 163,\n",
       "        98,  33,  43,  96,  67,  84,  70,  82, 130, 176, 116,  90,  85,\n",
       "        48,  14,  64,  96, 149,  85, 110, 171,  56,  57, 174,  76, 139,\n",
       "       112, 104, 185,  93, 146, 107,  81,  15,  61, 116, 117, 104, 108,\n",
       "       111,  55,  95, 105, 165, 255, 113, 110,  78,  82, 159, 106, 101,\n",
       "        48, 125, 111,  91,  45, 101, 125,  87,  89,  94, 130,  69, 116,\n",
       "       127, 163,  85,  86,  97, 113,  98,  79, 162,  57, 136,  62,  69,\n",
       "        39], dtype=uint8)"
      ]
     },
     "execution_count": 103,
     "metadata": {},
     "output_type": "execute_result"
    }
   ],
   "source": [
    "np.fromstring(dc.ngrams[','], np.uint8)"
   ]
  },
  {
   "cell_type": "code",
   "execution_count": 8,
   "metadata": {},
   "outputs": [],
   "source": [
    "v = model.get_input_vector(0)"
   ]
  },
  {
   "cell_type": "code",
   "execution_count": 105,
   "metadata": {},
   "outputs": [],
   "source": [
    "v2 = np.round(255*(v-dc.min_)/(dc.max_-dc.min_)).astype(np.uint8)\n"
   ]
  },
  {
   "cell_type": "code",
   "execution_count": 10,
   "metadata": {},
   "outputs": [
    {
     "data": {
      "text/plain": [
       "-0.14907378516543712"
      ]
     },
     "execution_count": 10,
     "metadata": {},
     "output_type": "execute_result"
    }
   ],
   "source": [
    "(dc.bytes_to_vec(dc.ngrams[',']) - v).sum()"
   ]
  },
  {
   "cell_type": "code",
   "execution_count": 101,
   "metadata": {},
   "outputs": [
    {
     "data": {
      "text/plain": [
       "(3.0360308, 3.0360308)"
      ]
     },
     "execution_count": 101,
     "metadata": {},
     "output_type": "execute_result"
    }
   ],
   "source": [
    "dc.max_, v.max()"
   ]
  },
  {
   "cell_type": "code",
   "execution_count": 92,
   "metadata": {},
   "outputs": [
    {
     "data": {
      "text/plain": [
       "{',': b\"\\x85C^5\\x7f\\x86pEb\\x97EN\\x82nb;7)jv\\x86\\x8fXi_mggy\\x86d%Eqn\\x846C<wg\\x88PL4*!9BXgYt\\xa6\\xaa\\\\qumSwG\\x91\\x82\\x1d\\x8a\\x8aKr`ZO+\\x82\\xb5S\\r\\x1b?f\\x15n\\x94j\\x90Ic\\x00\\\\R\\x9cx?\\xa81s-g]r[\\x8bHf=\\x97LA\\x97a+\\x90\\x9d4\\x19\\x9a9OI$\\x1cZ\\x97_-7[;|)j\\x8d\\xcfWk\\\\\\x9aI\\x81ZY6\\x0c'oP\\xb6|G%?R\\x97ydrI^u\\x99ie8r\\x8bo]\\x9eaZUns<_.JFJ\\x91;\\x94+}v\\x82K\\x17\\x0eV:\\x98\\x01Gdivo\\xa2m;}\\x15Gyn}XX\\x0f!=\\x07;7>\\x8fiUd\\xa3b!+`CTFR\\x82\\xb0tZU0\\x0e@`\\x95Un\\xab89\\xaeL\\x8bph\\xb9]\\x92kQ\\x0f=tuhlo7_i\\xa5\\xffqnNR\\x9fje0}o[-e}WY^\\x82Et\\x7f\\xa3UVaqbO\\xa29\\x88>E'\"}"
      ]
     },
     "execution_count": 92,
     "metadata": {},
     "output_type": "execute_result"
    }
   ],
   "source": [
    "dc.ngrams"
   ]
  },
  {
   "cell_type": "code",
   "execution_count": 6,
   "metadata": {},
   "outputs": [
    {
     "data": {
      "text/plain": [
       "'Number of ngrams: 2500000. Approximate size: 729.391224861145 MB'"
      ]
     },
     "execution_count": 6,
     "metadata": {},
     "output_type": "execute_result"
    }
   ],
   "source": [
    "dc.info()"
   ]
  }
 ],
 "metadata": {
  "kernelspec": {
   "display_name": "Python 3",
   "language": "python",
   "name": "python3"
  },
  "language_info": {
   "codemirror_mode": {
    "name": "ipython",
    "version": 3
   },
   "file_extension": ".py",
   "mimetype": "text/x-python",
   "name": "python",
   "nbconvert_exporter": "python",
   "pygments_lexer": "ipython3",
   "version": "3.5.2-final"
  }
 },
 "nbformat": 4,
 "nbformat_minor": 2
}