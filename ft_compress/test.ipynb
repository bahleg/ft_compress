{
 "cells": [
  {
   "cell_type": "code",
   "execution_count": 1,
   "metadata": {},
   "outputs": [],
   "source": [
    "import fasttext\n",
    "import numpy as np\n",
    "import sys\n",
    "sys.path.append('..')"
   ]
  },
  {
   "cell_type": "code",
   "execution_count": 2,
   "metadata": {},
   "outputs": [
    {
     "name": "stderr",
     "output_type": "stream",
     "text": "[2020-01-16 23:29:02,624] [DEBUG] - hello\n"
    }
   ],
   "source": [
    "import logging\n",
    "log_format = '[%(asctime)s] [%(levelname)s] - %(message)s'\n",
    "logging.basicConfig(level=logging.DEBUG, format=log_format)\n",
    "log = logging.getLogger(__name__)\n",
    "\n",
    "# writing to stdout\n",
    "handler = logging.StreamHandler(sys.stdout)\n",
    "handler.setLevel(logging.DEBUG)\n",
    "handler.setFormatter(log_format)\n",
    "log.addHandler(handler)\n",
    "logging.debug('hello')"
   ]
  },
  {
   "cell_type": "code",
   "execution_count": 3,
   "metadata": {},
   "outputs": [
    {
     "name": "stderr",
     "output_type": "stream",
     "text": "\n"
    }
   ],
   "source": [
    "model = fasttext.load_model('/home/legin/fasttext/wiki.en.bin')"
   ]
  },
  {
   "cell_type": "code",
   "execution_count": 6,
   "metadata": {},
   "outputs": [],
   "source": [
    "m = model.f.getInputMatrix()"
   ]
  },
  {
   "cell_type": "code",
   "execution_count": 15,
   "metadata": {},
   "outputs": [],
   "source": [
    "del m"
   ]
  },
  {
   "cell_type": "code",
   "execution_count": 7,
   "metadata": {},
   "outputs": [
    {
     "data": {
      "text/plain": "<module 'compressors.compressor8' from '/home/legin/ft_compress/ft_compress/compressors/compressor8.py'>"
     },
     "execution_count": 7,
     "metadata": {},
     "output_type": "execute_result"
    }
   ],
   "source": [
    "import compressors.compressor8 as d \n",
    "import storages.dict_based as db \n",
    "from importlib import reload\n",
    "reload(d)"
   ]
  },
  {
   "cell_type": "code",
   "execution_count": 8,
   "metadata": {},
   "outputs": [],
   "source": [
    "dc = d.Compressor8bit(db.DictStorage()) #~50% percents"
   ]
  },
  {
   "cell_type": "code",
   "execution_count": 9,
   "metadata": {},
   "outputs": [
    {
     "name": "stderr",
     "output_type": "stream",
     "text": "[2020-01-16 23:32:26,871] [DEBUG] - loading words\n[2020-01-16 23:32:31,445] [DEBUG] - Estimating parameters\n[2020-01-16 23:32:48,928] [DEBUG] - filling matrix\n[2020-01-16 23:33:19,027] [DEBUG] - ready\n"
    }
   ],
   "source": [
    "dc.fit(model, 10)"
   ]
  },
  {
   "cell_type": "code",
   "execution_count": 10,
   "metadata": {},
   "outputs": [
    {
     "data": {
      "text/plain": "'Number of ngrams: 1868814. Approximate size: 544.8786640167236 MB'"
     },
     "execution_count": 10,
     "metadata": {},
     "output_type": "execute_result"
    }
   ],
   "source": [
    "dc.info()"
   ]
  },
  {
   "cell_type": "code",
   "execution_count": 12,
   "metadata": {},
   "outputs": [
    {
     "name": "stderr",
     "output_type": "stream",
     "text": "[2020-01-16 23:33:47,016] [DEBUG] - 1:1:h\n"
    },
    {
     "data": {
      "text/plain": "array([-3.27280003e-01, -3.33854441e-01,  2.68502501e-01,  2.08985434e-01,\n        1.92106766e-01, -9.54895444e-02, -8.07417234e-03, -2.69404634e-01,\n       -5.92559028e-01, -2.58542254e-01,  1.45860163e-01, -4.28805949e-01,\n       -1.82555059e-01, -2.64012799e-01, -7.62753872e-02, -2.50889022e-01,\n       -5.45006233e-02, -8.92976949e-03,  1.31687526e-01,  1.52560716e-01,\n        3.76739101e-01,  1.64215130e-02, -2.81351059e-01,  6.84964720e-02,\n       -4.08244087e-01, -5.80970358e-01,  2.30231338e-02, -4.29149572e-01,\n       -1.18356711e-01,  1.77450152e-01, -1.27146194e-01,  5.37015251e-02,\n       -1.06537179e-01, -2.68550842e-01, -1.84558971e-01, -3.19721576e-02,\n        6.69967962e-02,  1.84612710e-01, -8.63754845e-02, -1.99336820e-02,\n        1.21276377e-01, -1.21460556e-01,  5.46953170e-02, -2.25250154e-01,\n       -1.20209740e-02, -4.25623343e-02, -7.54834807e-02,  4.06850862e-01,\n       -8.92625761e-02,  2.99888492e-02,  2.08634238e-01, -6.28287392e-01,\n       -2.30025690e-01, -2.17694720e-01, -2.37952536e-01, -3.33708912e-01,\n        1.00035761e-01,  4.49192742e-01,  2.01106203e-03,  1.09712253e-01,\n       -3.86664624e-02, -1.35790022e-01,  3.45214325e-01,  1.53283415e-01,\n        5.48124625e-02, -6.05760836e-05,  4.37075711e-01,  6.48086938e-02,\n       -9.51873589e-02, -5.47464857e-02,  3.40910720e-01, -2.83414730e-01,\n        3.97663661e-01,  1.31780409e-01, -3.52234315e-02,  3.53159043e-01,\n        4.44161424e-03,  6.65982519e-02, -6.30737838e-02,  3.62584566e-01,\n        8.76192612e-02,  9.68361007e-01, -6.31642344e-02,  2.48229367e-01,\n        9.90814223e-02, -7.88693406e-02, -2.75204672e-01, -3.84063395e-01,\n       -7.89934776e-03, -4.25509397e-01, -1.70206012e-01, -3.32023182e-01,\n       -8.31794518e-02, -2.48893226e-01, -4.73762349e-01, -9.63471254e-02,\n        4.62608954e-02,  2.57840987e-01, -1.72650270e-01, -2.29837972e-01,\n        1.06540478e-01, -3.49200246e-01,  8.13382165e-02, -2.67728961e-01,\n        2.68706056e-01,  4.09500369e-01,  1.63503075e-01,  3.50665660e-02,\n        4.30010603e-01, -2.25518587e-01, -3.07675266e-01,  1.93897551e-01,\n        3.38892869e-01,  4.67249883e-01,  2.49921206e-01, -3.09095414e-01,\n        1.05491580e-01,  2.84419931e-01,  2.58770719e-01, -1.58151972e-01,\n        2.08129357e-03, -2.19641391e-01,  3.46429981e-02, -9.58171922e-02,\n        1.75725219e-01, -3.16416840e-02,  5.34243516e-01,  1.19724743e-01,\n       -1.79291978e-01, -5.72113756e-02,  1.12361529e-01, -1.02482534e-02,\n        9.30365751e-02, -2.58343597e-02, -3.07408693e-01,  2.09321094e-02,\n        1.35630904e-01, -3.33022197e-01,  4.12795839e-01,  3.36468549e-01,\n       -2.66553760e-01, -3.07819114e-01,  2.09624507e-01,  2.60073842e-01,\n       -2.77216596e-01,  2.16659703e-01,  5.65287676e-01,  4.24773627e-02,\n       -1.86477637e-01, -2.52718368e-01,  1.36175903e-01,  1.44277686e-01,\n       -1.09365601e-02, -1.89242197e-01, -4.48645325e-01,  6.48103253e-02,\n        1.40062375e-01,  1.64734860e-01, -1.79196452e-01,  2.28030124e-01,\n        3.98795028e-01, -2.27415983e-01, -1.76859533e-03, -4.58772145e-02,\n        5.67415044e-01, -2.53474540e-01, -3.14921361e-01,  4.49635485e-01,\n        2.73001046e-01,  4.55102119e-01, -1.57350779e-01, -6.16140378e-02,\n        4.37879932e-02, -1.15637113e-03,  3.03451649e-01,  4.36659802e-01,\n       -2.76278509e-02, -2.49528375e-02,  2.49779692e-02, -4.54021499e-01,\n       -4.75377518e-01, -3.65539655e-01, -2.02273262e-01, -3.01773314e-03,\n       -3.21368618e-02,  1.66836906e-02,  2.40258132e-01, -5.53430693e-02,\n       -7.45266690e-02,  3.11131572e-01,  7.86425775e-02,  1.56882042e-01,\n        4.20645504e-01,  2.17216319e-02, -1.53278066e-01, -1.53176035e-01,\n        4.71601586e-01,  1.93772450e-01,  1.64010512e-01, -3.42364980e-01,\n        4.48752350e-01, -3.14169199e-01,  2.64363417e-01, -2.61445900e-01,\n        1.71681675e-01,  6.39845130e-02, -1.24099681e-01,  2.45503196e-02,\n        1.54982495e-01,  1.02058660e-01,  3.64301872e-02,  3.22712040e-01,\n        1.64047296e-01, -6.37783480e-02, -4.21874219e-01,  2.69886582e-01,\n       -4.39870650e-02, -3.44404745e-01,  9.13048392e-02,  5.07372995e-02,\n        4.17162638e-01,  2.63054085e-01, -6.19661995e-03, -2.87715886e-02,\n        2.49780419e-01, -1.38623348e-01,  4.03859280e-02, -4.40199509e-01,\n        4.18937135e-01, -3.34383041e-01,  3.65688688e-01,  2.11700521e-02,\n       -3.88252478e-01, -6.92666820e-02,  4.90300302e-02, -2.90258872e-01,\n        4.29108892e-02, -8.70974720e-02,  2.51460149e-01, -2.33473439e-01,\n       -1.23041346e-01,  2.01514953e-02, -1.40302275e-01, -2.01633061e-01,\n        1.50142446e-01, -3.49180419e-02,  2.50926824e-01,  3.78791229e-01,\n       -1.06926412e-01, -9.08770555e-02, -1.71037930e-01, -2.07113167e-01,\n       -6.49315676e-02,  1.23060049e-01,  2.25687277e-01, -2.40019006e-01,\n       -8.17629490e-03, -5.96190383e-01,  1.56213548e-01,  8.77219645e-02,\n       -6.73933348e-02,  3.04216830e-01,  4.32528651e-01,  1.74431737e-01,\n       -3.84729021e-01,  3.38441727e-01,  2.22236557e-01,  1.56596028e-01,\n        1.54393323e-01,  7.48067585e-02, -9.86690434e-03,  5.10574320e-02,\n       -1.09374315e-01, -2.88479583e-01, -5.54010977e-01, -4.37788147e-01,\n        2.96437686e-01,  3.75332422e-02, -1.05614524e-01, -1.69993686e-01,\n        1.19653084e-02,  2.65043248e-01, -5.15306346e-01,  2.21505406e-01,\n       -1.82059635e-01, -6.52131724e-02,  2.61771625e-02,  1.74569857e-01,\n        8.77832490e-03,  1.30626938e-01,  3.10241327e-01, -1.70903001e-01,\n        1.25809132e-01, -1.82079687e-01,  1.65094517e-01,  1.68683289e-01,\n       -3.13353452e-01, -3.12953190e-01,  5.73141580e-01, -4.71801173e-01])"
     },
     "execution_count": 12,
     "metadata": {},
     "output_type": "execute_result"
    }
   ],
   "source": [
    "dc['h'] - model['h']"
   ]
  },
  {
   "cell_type": "code",
   "execution_count": 9,
   "metadata": {},
   "outputs": [
    {
     "data": {
      "text/plain": "<module 'compressors.compressor8' from '/home/legin/ft_compress/ft_compress/compressors/compressor8.py'>"
     },
     "execution_count": 9,
     "metadata": {},
     "output_type": "execute_result"
    }
   ],
   "source": [
    "import compressors.compressor8 as d \n",
    "from importlib import reload\n",
    "reload(d)"
   ]
  },
  {
   "cell_type": "code",
   "execution_count": 10,
   "metadata": {},
   "outputs": [
    {
     "name": "stderr",
     "output_type": "stream",
     "text": "[2020-01-12 14:35:37,861] [DEBUG] - Loading words\n[2020-01-12 14:35:48,702] [WARNING] - Too many ngrams, breaking\n[2020-01-12 14:35:48,702] [WARNING] - Too many ngrams, breaking\n[2020-01-12 14:35:48,702] [DEBUG] - Estimating parameters\n[2020-01-12 14:36:15,707] [DEBUG] - filling matrix\n"
    },
    {
     "ename": "KeyboardInterrupt",
     "evalue": "",
     "output_type": "error",
     "traceback": [
      "\u001b[0;31m---------------------------------------------------------------------------\u001b[0m",
      "\u001b[0;31mKeyboardInterrupt\u001b[0m                         Traceback (most recent call last)",
      "\u001b[0;32m<ipython-input-10-a6f7f8d74045>\u001b[0m in \u001b[0;36m<module>\u001b[0;34m\u001b[0m\n\u001b[0;32m----> 1\u001b[0;31m \u001b[0mdc\u001b[0m \u001b[0;34m=\u001b[0m \u001b[0md\u001b[0m\u001b[0;34m.\u001b[0m\u001b[0mCompressor8bit\u001b[0m\u001b[0;34m(\u001b[0m\u001b[0mmodel\u001b[0m\u001b[0;34m,\u001b[0m \u001b[0;36m2500000\u001b[0m\u001b[0;34m)\u001b[0m \u001b[0;31m#~50% percents\u001b[0m\u001b[0;34m\u001b[0m\u001b[0m\n\u001b[0m",
      "\u001b[0;32m~/ft_compress/ft_compress/compressors/compressor8.py\u001b[0m in \u001b[0;36m__init__\u001b[0;34m(self, ft_model, maxsize)\u001b[0m\n\u001b[1;32m     30\u001b[0m         \u001b[0;32mfor\u001b[0m \u001b[0mnew_id\u001b[0m\u001b[0;34m,\u001b[0m\u001b[0mn\u001b[0m \u001b[0;32min\u001b[0m \u001b[0menumerate\u001b[0m\u001b[0;34m(\u001b[0m\u001b[0mself\u001b[0m\u001b[0;34m.\u001b[0m\u001b[0mngrams\u001b[0m\u001b[0;34m)\u001b[0m\u001b[0;34m:\u001b[0m\u001b[0;34m\u001b[0m\u001b[0m\n\u001b[1;32m     31\u001b[0m             \u001b[0mold_id\u001b[0m \u001b[0;34m=\u001b[0m \u001b[0mself\u001b[0m\u001b[0;34m.\u001b[0m\u001b[0mngrams\u001b[0m\u001b[0;34m[\u001b[0m\u001b[0mn\u001b[0m\u001b[0;34m]\u001b[0m\u001b[0;34m\u001b[0m\u001b[0m\n\u001b[0;32m---> 32\u001b[0;31m             \u001b[0mself\u001b[0m\u001b[0;34m.\u001b[0m\u001b[0mngrams\u001b[0m\u001b[0;34m[\u001b[0m\u001b[0mn\u001b[0m\u001b[0;34m]\u001b[0m \u001b[0;34m=\u001b[0m \u001b[0mself\u001b[0m\u001b[0;34m.\u001b[0m\u001b[0mvector_to_bytes\u001b[0m\u001b[0;34m(\u001b[0m\u001b[0mft_model\u001b[0m\u001b[0;34m.\u001b[0m\u001b[0mget_input_vector\u001b[0m\u001b[0;34m(\u001b[0m\u001b[0mold_id\u001b[0m\u001b[0;34m)\u001b[0m\u001b[0;34m)\u001b[0m\u001b[0;34m\u001b[0m\u001b[0m\n\u001b[0m\u001b[1;32m     33\u001b[0m         \u001b[0mlogging\u001b[0m\u001b[0;34m.\u001b[0m\u001b[0mdebug\u001b[0m\u001b[0;34m(\u001b[0m\u001b[0;34m'ready'\u001b[0m\u001b[0;34m)\u001b[0m\u001b[0;34m\u001b[0m\u001b[0m\n\u001b[1;32m     34\u001b[0m         \u001b[0mself\u001b[0m\u001b[0;34m.\u001b[0m\u001b[0mbyte_size\u001b[0m \u001b[0;34m=\u001b[0m \u001b[0mlen\u001b[0m\u001b[0;34m(\u001b[0m\u001b[0mself\u001b[0m\u001b[0;34m.\u001b[0m\u001b[0mngrams\u001b[0m\u001b[0;34m[\u001b[0m\u001b[0mn\u001b[0m\u001b[0;34m]\u001b[0m\u001b[0;34m)\u001b[0m\u001b[0;34m\u001b[0m\u001b[0m\n",
      "\u001b[0;32m/usr/local/lib/python3.5/dist-packages/fasttext/FastText.py\u001b[0m in \u001b[0;36mget_input_vector\u001b[0;34m(self, ind)\u001b[0m\n\u001b[1;32m    112\u001b[0m         \u001b[0mb\u001b[0m \u001b[0;34m=\u001b[0m \u001b[0mfasttext\u001b[0m\u001b[0;34m.\u001b[0m\u001b[0mVector\u001b[0m\u001b[0;34m(\u001b[0m\u001b[0mdim\u001b[0m\u001b[0;34m)\u001b[0m\u001b[0;34m\u001b[0m\u001b[0m\n\u001b[1;32m    113\u001b[0m         \u001b[0mself\u001b[0m\u001b[0;34m.\u001b[0m\u001b[0mf\u001b[0m\u001b[0;34m.\u001b[0m\u001b[0mgetInputVector\u001b[0m\u001b[0;34m(\u001b[0m\u001b[0mb\u001b[0m\u001b[0;34m,\u001b[0m \u001b[0mind\u001b[0m\u001b[0;34m)\u001b[0m\u001b[0;34m\u001b[0m\u001b[0m\n\u001b[0;32m--> 114\u001b[0;31m         \u001b[0;32mreturn\u001b[0m \u001b[0mnp\u001b[0m\u001b[0;34m.\u001b[0m\u001b[0marray\u001b[0m\u001b[0;34m(\u001b[0m\u001b[0mb\u001b[0m\u001b[0;34m)\u001b[0m\u001b[0;34m\u001b[0m\u001b[0m\n\u001b[0m\u001b[1;32m    115\u001b[0m \u001b[0;34m\u001b[0m\u001b[0m\n\u001b[1;32m    116\u001b[0m     \u001b[0;32mdef\u001b[0m \u001b[0mpredict\u001b[0m\u001b[0;34m(\u001b[0m\u001b[0mself\u001b[0m\u001b[0;34m,\u001b[0m \u001b[0mtext\u001b[0m\u001b[0;34m,\u001b[0m \u001b[0mk\u001b[0m\u001b[0;34m=\u001b[0m\u001b[0;36m1\u001b[0m\u001b[0;34m,\u001b[0m \u001b[0mthreshold\u001b[0m\u001b[0;34m=\u001b[0m\u001b[0;36m0.0\u001b[0m\u001b[0;34m,\u001b[0m \u001b[0mon_unicode_error\u001b[0m\u001b[0;34m=\u001b[0m\u001b[0;34m'strict'\u001b[0m\u001b[0;34m)\u001b[0m\u001b[0;34m:\u001b[0m\u001b[0;34m\u001b[0m\u001b[0m\n",
      "\u001b[0;31mKeyboardInterrupt\u001b[0m: "
     ]
    }
   ],
   "source": [
    "dc = d.Compressor8bit(model, 2500000) #~50% percents"
   ]
  },
  {
   "cell_type": "code",
   "execution_count": 23,
   "metadata": {},
   "outputs": [
    {
     "data": {
      "text/plain": "['<ba',\n '<ban',\n '<bana',\n '<banan',\n 'ban',\n 'bana',\n 'banan',\n 'banana',\n 'ana',\n 'anan',\n 'anana',\n 'ananan',\n 'nan',\n 'nana',\n 'nanan',\n 'nanana',\n 'ana',\n 'anan',\n 'anana',\n 'ananan',\n 'nan',\n 'nana',\n 'nanan',\n 'nanana',\n 'ana',\n 'anan',\n 'anana',\n 'ananan',\n 'nan',\n 'nana',\n 'nanan',\n 'nanana',\n 'ana',\n 'anan',\n 'anana',\n 'anana>',\n 'nan',\n 'nana',\n 'nana>',\n 'ana',\n 'ana>',\n 'na>']"
     },
     "execution_count": 23,
     "metadata": {},
     "output_type": "execute_result"
    }
   ],
   "source": [
    "model.get_subwords('bananananana')[0]"
   ]
  },
  {
   "cell_type": "code",
   "execution_count": 0,
   "metadata": {},
   "outputs": [],
   "source": [
    "v = model.get_input_vector(0)"
   ]
  },
  {
   "cell_type": "code",
   "execution_count": 0,
   "metadata": {},
   "outputs": [],
   "source": [
    "v2 = np.round(255*(v-dc.min_)/(dc.max_-dc.min_)).astype(np.uint8)\n"
   ]
  },
  {
   "cell_type": "code",
   "execution_count": 0,
   "metadata": {},
   "outputs": [],
   "source": [
    "(dc.bytes_to_vec(dc.ngrams[',']) - v).sum()"
   ]
  },
  {
   "cell_type": "code",
   "execution_count": 0,
   "metadata": {},
   "outputs": [],
   "source": [
    "dc.max_, v.max()"
   ]
  },
  {
   "cell_type": "code",
   "execution_count": 0,
   "metadata": {},
   "outputs": [],
   "source": [
    "dc.ngrams"
   ]
  },
  {
   "cell_type": "code",
   "execution_count": 0,
   "metadata": {},
   "outputs": [],
   "source": [
    "dc.info()"
   ]
  }
 ],
 "metadata": {
  "kernelspec": {
   "display_name": "Python 3",
   "language": "python",
   "name": "python3"
  },
  "language_info": {
   "codemirror_mode": {
    "name": "ipython",
    "version": 3
   },
   "file_extension": ".py",
   "mimetype": "text/x-python",
   "name": "python",
   "nbconvert_exporter": "python",
   "pygments_lexer": "ipython3",
   "version": "3.5.2-final"
  }
 },
 "nbformat": 4,
 "nbformat_minor": 2
}