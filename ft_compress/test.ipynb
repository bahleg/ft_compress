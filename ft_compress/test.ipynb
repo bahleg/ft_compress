{
 "cells": [
  {
   "cell_type": "code",
   "execution_count": 1,
   "metadata": {},
   "outputs": [],
   "source": [
    "import fasttext\n",
    "import numpy as np\n",
    "import sys\n",
    "sys.path.append('..')"
   ]
  },
  {
   "cell_type": "code",
   "execution_count": 2,
   "metadata": {},
   "outputs": [
    {
     "name": "stderr",
     "output_type": "stream",
     "text": "[2020-01-26 23:15:03,204] [DEBUG] - hello\n"
    }
   ],
   "source": [
    "import logging\n",
    "log_format = '[%(asctime)s] [%(levelname)s] - %(message)s'\n",
    "logging.basicConfig(level=logging.DEBUG, format=log_format)\n",
    "log = logging.getLogger(__name__)\n",
    "\n",
    "# writing to stdout\n",
    "handler = logging.StreamHandler(sys.stdout)\n",
    "handler.setLevel(logging.DEBUG)\n",
    "handler.setFormatter(log_format)\n",
    "log.addHandler(handler)\n",
    "logging.debug('hello')"
   ]
  },
  {
   "cell_type": "code",
   "execution_count": 4,
   "metadata": {},
   "outputs": [
    {
     "name": "stderr",
     "output_type": "stream",
     "text": "\n"
    }
   ],
   "source": [
    "#model = fasttext.load_model('/home/legin/fasttext/wiki.en.bin')\n",
    "model = fasttext.load_model('../test_lenin/lenin.bin')"
   ]
  },
  {
   "cell_type": "code",
   "execution_count": 6,
   "metadata": {},
   "outputs": [],
   "source": [
    "m = model.f.getInputMatrix()"
   ]
  },
  {
   "cell_type": "code",
   "execution_count": 15,
   "metadata": {},
   "outputs": [],
   "source": [
    "del m"
   ]
  },
  {
   "cell_type": "code",
   "execution_count": 4,
   "metadata": {},
   "outputs": [
    {
     "data": {
      "text/plain": "<module 'compressors.dumb' from '/home/legin/ft_compress/ft_compress/compressors/dumb.py'>"
     },
     "execution_count": 4,
     "metadata": {},
     "output_type": "execute_result"
    }
   ],
   "source": [
    "import compressors.dumb  as d \n",
    "import storages.shelve_based as db\n",
    "from importlib import reload\n",
    "reload(d)"
   ]
  },
  {
   "cell_type": "code",
   "execution_count": 15,
   "metadata": {},
   "outputs": [
    {
     "name": "stdout",
     "output_type": "stream",
     "text": "97\nh 36342608335481132\n115\nh 3757506531950928013\n100\nh 6856764573860679371\n679973\n/home/legin/.local/lib/python3.5/site-packages/ipykernel_launcher.py:7: RuntimeWarning: overflow encountered in long_scalars\n  import sys\n"
    },
    {
     "data": {
      "text/plain": "(['<as', '<asd', '<asd>', 'asd', 'asd>', 'sd>'],\n array([1429633, 1079763, 1504159,   63909,  485257,  753310]))"
     },
     "execution_count": 15,
     "metadata": {},
     "output_type": "execute_result"
    }
   ],
   "source": [
    "\n",
    "def hash_ft(string):\n",
    "    h = np.array(2166136261, np.uint32)\n",
    "    string = string.encode('utf-8')\n",
    "    for string_i in string: \n",
    "        print (string_i)\n",
    "        h = h^(string_i)\n",
    "        h = h* 16777619\n",
    "        print ('h', h)\n",
    "    return h \n",
    "print (hash_ft('asd')%model.f.getArgs().bucket + len(model.words))\n",
    "\n",
    "model.get_subwords('asd')#, hash_ft('<a>')%model.f.getArgs().bucket"
   ]
  },
  {
   "cell_type": "code",
   "execution_count": 9,
   "metadata": {},
   "outputs": [
    {
     "data": {
      "text/plain": "602"
     },
     "execution_count": 9,
     "metadata": {},
     "output_type": "execute_result"
    }
   ],
   "source": [
    " len(model.words)"
   ]
  },
  {
   "cell_type": "code",
   "execution_count": 5,
   "metadata": {},
   "outputs": [],
   "source": [
    "!rm test_db\n",
    "dc = d.DumbCompressor(db.ShelveStorage('./test_db', 'c'))#~50% percents"
   ]
  },
  {
   "cell_type": "code",
   "execution_count": 6,
   "metadata": {},
   "outputs": [
    {
     "name": "stderr",
     "output_type": "stream",
     "text": "[2020-01-26 22:36:58,449] [DEBUG] - loading words\n[2020-01-26 22:36:58,456] [DEBUG] - filling matrix\n[2020-01-26 22:36:58,570] [DEBUG] - ready\n"
    }
   ],
   "source": [
    "dc.fit(model, 1)"
   ]
  },
  {
   "cell_type": "code",
   "execution_count": 7,
   "metadata": {},
   "outputs": [
    {
     "data": {
      "text/plain": "'Number of ngrams: 6151. Approximate size: 2.372260093688965 MB'"
     },
     "execution_count": 7,
     "metadata": {},
     "output_type": "execute_result"
    }
   ],
   "source": [
    "dc.info()"
   ]
  },
  {
   "cell_type": "code",
   "execution_count": 17,
   "metadata": {},
   "outputs": [
    {
     "data": {
      "text/plain": "(['<ле',\n  '<лен',\n  '<лени',\n  '<ленин',\n  'лен',\n  'лени',\n  'ленин',\n  'ленин>',\n  'ени',\n  'енин',\n  'енин>',\n  'нин',\n  'нин>',\n  'ин>'],\n array([1009063, 1379272, 1123424,  106343,  597334, 1765262, 1608029,\n        1183073, 1766703,  264864,  528194,  479407,  250699, 1992066]))"
     },
     "execution_count": 17,
     "metadata": {},
     "output_type": "execute_result"
    }
   ],
   "source": [
    "word = 'ленин'\n",
    "#dc[word] - model[word]\n",
    "idx = model.get_subwords(word)\n",
    "model.get_subwords(word)"
   ]
  },
  {
   "cell_type": "code",
   "execution_count": 18,
   "metadata": {},
   "outputs": [
    {
     "name": "stdout",
     "output_type": "stream",
     "text": "\nngrams.нут\nngrams.есам>\nngrams.<Уль\nword_ngrams.когда\nngrams.<пр\nngrams.того,>\nngrams.лне>\nngrams.<дан\nngrams.слов\nngrams.ных>\nngrams.<пе\nword_ngrams.политики\nword_ngrams.время\nword_ngrams.—\nngrams.виками\nngrams.<дл\nngrams.ософия\nngrams.льш\nngrams.воен\nngrams.оль\nngrams.<Перв\nngrams.ую>\nngrams.мом\nngrams.<цель\nngrams.циклоп\nngrams.<Боль\nword_ngrams.с.\nngrams.03>\nngrams.<обще\nngrams.<РСДРП\nngrams.ского>\nngrams.упска\nngrams.<ид\nngrams.сте\nngrams.изации\nngrams.<или>\nngrams.<свои\nngrams.азвит\nngrams.этог\nword_ngrams.войны\nngrams.вля\nngrams.ности\nngrams.жна>\nword_ngrams.пролетариат\nngrams.азной>\nngrams.<один\nngrams.сква:>\nngrams.артии>\nngrams.торог\nngrams.ссии,\nngrams.Гей\nngrams.написа\nngrams.тие\nngrams.1898>\nngrams.альног\nngrams.стичес\nngrams.без>\nngrams.<ли>\nngrams.<том\nword_ngrams.которого\nword_ngrams.РКП(б)\nngrams.ду>\nngrams.<наибо\nngrams.ный\nngrams.Центра\nngrams.1921>\nngrams.<О>\nngrams.<Плех\nngrams.чих\nngrams.л-де\nngrams.дек\nngrams.<доме>\nngrams.ак>\nngrams.ентра\nngrams.олити\nngrams.ссии>\nngrams.ей>\nngrams.татьи:\nword_ngrams.власти,\nngrams.ладими\nngrams.25>\nngrams.езд\nngrams.<оди\nngrams.ъезде\nngrams.<Ф.>\nngrams.осо\nngrams.Делег\nngrams.сса\nngrams.санд\nngrams.оды>\nngrams.СНК>\nngrams.<из-\nngrams.997.>\nngrams.чинени\nngrams.полити\nngrams.<раз>\nngrams.лютн\nngrams.цар\nngrams.им>\nngrams.ала\nngrams.тия>\nword_ngrams.РСДРП\nword_ngrams.революции\nngrams.ересам\nword_ngrams.России\nword_ngrams.Ленин.\nword_ngrams.Пайпс\nword_ngrams.год\nword_ngrams.2\nngrams.<реше\nngrams.дачи>\nngrams.иат>\nngrams.енции>\nngrams.прос>\nngrams.льту\nngrams.имо\nngrams.ащени\nngrams.<пери\nngrams.вляет\nngrams.огра\nngrams.<Издат\nword_ngrams.организации,\nngrams.<Изда\nngrams.<на>\nngrams.аботы\nngrams.льст\nngrams.нале\nngrams.причи\nword_ngrams.причине\nngrams.Цит.>\nngrams.ман\nngrams.люцио\nngrams.крат\nword_ngrams.Центральный\nword_ngrams.гг.\nngrams.такие>\nword_ngrams.К\nngrams.литер\nngrams.ешение\nword_ngrams.его\nngrams.-е>\nngrams.абоче\nngrams.аниза\nngrams.Росси\nngrams.ит.\nngrams.зеты>\nngrams.тьи:>\nngrams.<мног\nngrams.Как>\nngrams.<момен\nngrams.нег\nngrams.<:>\nngrams.царск\nword_ngrams.XX\nword_ngrams.собр.\nngrams.цел\nngrams.знь>\nngrams.ции>\nngrams.ременн\nngrams.зны\nngrams.<данно\nword_ngrams.вопрос\nngrams.eni\nngrams.ских\nngrams.альны\nngrams.итета\nngrams.рман.\nngrams.ежде>\nngrams.вия>\nngrams.<Рос\nngrams.орое>\nngrams.игия\nngrams.<свыше\nngrams.<Никол\nngrams.ития>\nngrams.<Алекс\nngrams.ос>\nngrams.<книгу\nngrams.докуме\nngrams.<чег\nngrams.с»)>\nngrams.<др.>\nngrams.<тем\nngrams.энцик\nword_ngrams.году,\nngrams.высту\nngrams.ки>\nngrams.году>\nngrams.ратов>\nngrams.удет>\nngrams.перво\nngrams.союзо\nngrams.ека\nngrams.фере\nngrams.пед\nngrams.дакции\nngrams.димира\nngrams.верж\nword_ngrams.человека\nngrams.<Кул\nngrams.КРОН-\nngrams.Поли\nngrams.абот\nngrams.годо\nngrams.ина\nngrams.рых>\nngrams.ральн\nngrams.нь>\nngrams.<Гей\nngrams.Л.>\nngrams.<соц\nngrams.словия\nngrams.нам>\nword_ngrams.истории\nngrams.<ред\nngrams.ешени\nword_ngrams.Пер.\nngrams.рабо\nngrams.алисти\nngrams.дде\nngrams.исс\nngrams.тереса\nngrams.еррито\nngrams.дного>\nngrams.бход\nngrams.ногие>\nngrams.Сери\nngrams.ред>\nngrams.<уже>\nngrams.тер>\nngrams.вные>\nngrams.льяно\nngrams.нигу>\nngrams.ского\nngrams.жно>\nngrams.ском\nngrams.на.\nngrams.ржу\nngrams.нине\nngrams.рства,\nngrams.енни\nngrams.1905>\nngrams.еле\nngrams.Ульян\nngrams.<1967.\nngrams.ношени\nngrams.<Пайпс\nngrams.<лите\nngrams.азной\nngrams.еоб\nngrams.<1918\nngrams.<Пле\nword_ngrams.обороны\nword_ngrams.данным\nngrams.щени\nword_ngrams.апреле\nngrams.<Влад\nngrams.докум\nngrams.исьме>\nngrams.рый\nword_ngrams.20\nngrams.правит\nngrams.реем\nngrams.<За>\nngrams.рждал\nngrams.пол\nngrams.атура>\nngrams.и:>\nngrams.ачи\nngrams.нац\nngrams.<рели\nngrams.ких>\nngrams.ссо\nngrams.<обо\nngrams.тви\nngrams.<10\nngrams.ратов\nngrams.еля>\nngrams.работ>\nngrams.овек\nngrams.осуд\nngrams.<Октя\nngrams.<1887\nngrams.чти\nngrams.<перио\nngrams.<Гл\nngrams.еменн\nword_ngrams.них\nngrams.еског\nngrams.езда>\nword_ngrams.Культурная\nngrams.абсо\nngrams.зов\nngrams.уково\nngrams.<абсол\nngrams.прежд\nngrams.еспу\nngrams.<газ\nngrams.октяб\nngrams.исле>\nngrams.енции\nngrams.овой>\nngrams.сьме\nngrams.льства\nngrams.<Зд\nngrams.есс»)\nngrams.озны\nngrams.соци\nword_ngrams.году\nngrams.азн\nngrams.<стал\nngrams.при>\nngrams.<личн\nngrams.назии>\nngrams.нал\nngrams.питали\nngrams.обще\nngrams.<утве\nngrams.дного\nngrams.ыли\nngrams.199\nngrams.енине>\nngrams.ногие\nngrams.<много\nngrams.<от>\nngrams.СС.\nngrams.импери\nngrams.нояб\nngrams.<года>\nngrams.возр\nngrams.жиз\nngrams.ове\nngrams.еятель\nngrams.<лишь\nngrams.ультур\nngrams.<жизн\nngrams.анее\nword_ngrams.лидер\nngrams.<пол\nngrams.<XI\nngrams.гинов>\nngrams.<впер\nngrams.сторик\nngrams.<После\nword_ngrams.В.\nngrams.лич\nngrams.нной>\nngrams.ДРПД\nngrams.м,>\nngrams.<лич\nngrams.<Вла\nngrams.услов\nngrams.фия\nngrams.том>\nngrams.льев\nngrams.артии\nngrams.ры,\nngrams.ал>\nngrams.<РСД\nngrams.бочег\nngrams.руг>\nngrams.<Пер.\nngrams.войне>\nngrams.<жиз\nngrams.Ильич>\nngrams.заций>\nngrams.<челов\nngrams.опрос>\nngrams.атья:>\nngrams.ста\nngrams.<себе\nngrams.раны\nngrams.го>\nngrams.тстви\nngrams.саров>\nngrams.ейф\nngrams.работ\nngrams.да,>\nngrams.вполн\nngrams.тализм\nword_ngrams.деятельности\nngrams.едос\nngrams.риал\nngrams.оторое\nngrams.фер\nngrams.вистск\nngrams.лжнос\nngrams.олучи\nngrams.<Рес\nngrams.аписа\nngrams.<нег\nngrams.<При\nngrams.ные>\nngrams.ино\nngrams.Исто\nngrams.лжен\nngrams.свой>\nngrams.903\nngrams.<авгус\nngrams.есь>\nword_ngrams.момент\nngrams.рма\nngrams.деятел\nngrams.Рол\nngrams.окт\nngrams.льи\nword_ngrams.Выбор\nngrams.насе\nngrams.<15\nngrams.три>\nngrams.итализ\nngrams.рал\nngrams.<чем\nngrams.мира\nngrams.СДР\nword_ngrams.После\nngrams.оциали\nngrams.упа\nngrams.ер.\nngrams.<нико\nngrams.ал:>\nngrams.<нач\nngrams.<други\nngrams.сква\nngrams.гг.\nngrams.<новой\nngrams.ссовой\nngrams.мнен\nngrams.дия\nngrams.<что\nngrams.ударс\nngrams.<июля>\nngrams.ика>\nngrams.ррито\nngrams.вом>\nngrams.912\nngrams.царско\nngrams.мног\nngrams.итиз\nngrams.шая\nngrams.вых\nword_ngrams.революции.\nngrams.<бы\nngrams.тва,>\nngrams.оветс\nngrams.ращени\nngrams.торого\nngrams.<24\nngrams.уазной\nngrams.айпс\nngrams.нин\nngrams.08.>\nngrams.осква:\nngrams.<Об>\nngrams.ервая>\nngrams.<Ю.>\nword_ngrams.стороны\nngrams.альн\nngrams.итель\nword_ngrams.государства,\nngrams.19>\nngrams.есте>\nngrams.<год.\nngrams.колая>\nngrams.бур\nngrams.бсо\nngrams.<себя\nngrams.1922>\nngrams.зде>\nngrams.иалис\nngrams.Лен\nngrams.июля>\nngrams.оре>\nngrams.ьног\nword_ngrams.жил\nngrams.ьше\nngrams.обо\nngrams.куме\nngrams.изац\nngrams.оторо\nngrams.Полит\nngrams.РЕСС\nngrams.атура\nngrams.<Цит.\nngrams.оюзо\nngrams.<г.>\nword_ngrams.Л.\nngrams.саров\nngrams.тория>\nngrams.еского\nngrams.ержке>\nngrams.ото\nngrams.<кото\nngrams.ьны\nngrams.виков>\nngrams.лите\nngrams.<мир\nngrams.серо\nngrams.оч.,>\nngrams.иным\nngrams.етств\nngrams.гиозны\nngrams.ин>\nword_ngrams.членов\nngrams.опросе\nngrams.<бор\nngrams.екабре\nngrams.<т.>\nngrams.арс\nngrams.ье>\nngrams.режде>\nngrams.ию>\nngrams.<ЦК>\nngrams.рвом>\nngrams.<Цент\nngrams.изма\nngrams.льше>\nngrams.тору\nngrams.<кап\nngrams.роре\nngrams.<М.:\nngrams.<лично\nngrams.льшая>\nngrams.еобхо\nngrams.<должн\nngrams.ражда\nngrams.of>\nngrams.гус\nngrams.<быт\nngrams.ъезд\nngrams.жет>\nngrams.сьм\nngrams.олет\nngrams.рвые\nngrams.аты\nword_ngrams.англ.\nngrams.ду,\nngrams.<анали\nngrams.верну\nngrams.<п.\nngrams.<ги\nngrams.ресам>\nngrams.енине\nngrams.латы\nngrams.назии\nngrams.Жизн\nngrams.рель>\nngrams.осно\nngrams.<Роль\nngrams.парт\nngrams.общ\nword_ngrams.она\nngrams.Ульяно\nngrams.оим>\nngrams.<Ил\nngrams.себ\nngrams.ане\nngrams.льных>\nngrams.лассо\nngrams.енина.\nword_ngrams.страны\nngrams.1906>\nngrams.вол\nngrams.<Выбор\nconfig.dim\nngrams.<Здесь\nngrams.гинов\nngrams.еме\nngrams.апит\nngrams.ков>\nngrams.туры\nngrams.мерти>\nngrams.здател\nngrams.ерия>\nngrams.сии,>\nngrams.дящихс\nngrams.сновны\nngrams.колая\nngrams.числ\nngrams.<мирн\nngrams.прини\nngrams.<по>\nngrams.рафи\nngrams.<внутр\nngrams.оборо\nword_ngrams.задачи\nngrams.исьме\nngrams.дер\nngrams.Полн\nngrams.абоч\nngrams.ме>\nngrams.тол\nngrams.921\nngrams.рупска\nword_ngrams.</s>\nngrams.рево\nngrams.<можн\nngrams.опрос\nngrams.екабр\nngrams.огр\nngrams.<инте\nngrams.ержке\nngrams.емя>\nngrams.борьб\nngrams.торое>\nngrams.п.>\nngrams.нению>\nngrams.»)>\nngrams.<того\nngrams.виков\nngrams.быт\nngrams.еменно\nngrams.<воп\nngrams.201\nngrams.ишь\nngrams.дом\nngrams.гани\nword_ngrams.Крупская\nngrams.Мар\nngrams.мог>\nngrams.учил\nngrams.рые>\nngrams.режде\nngrams.рос>\nngrams.шет\nngrams.<1924>\nngrams.<Флаг>\nngrams.Здесь>\nngrams.лови\nngrams.ержда\nngrams.льшая\nngrams.евика\nngrams.and>\nngrams.8.>\nngrams.<меня>\nngrams.010.\nngrams.года\nword_ngrams.также:\nngrams.ССР,>\nngrams.войны>\nngrams.нас\nword_ngrams.эту\nngrams.Р.>\nngrams.<СНК>\nword_ngrams.Революция\nword_ngrams.за\nngrams.Всер\nngrams.Ник\nngrams.между>\nngrams.димос\nngrams.боль\nngrams.<Д.\nngrams.аселен\nngrams.нина,\nngrams.огин\nngrams.рин\nngrams.трогр\nngrams.мерти\nword_ngrams.перед\nword_ngrams.должность\nngrams.ервая\nword_ngrams.марте\nngrams.Пай\nword_ngrams.сфере\nngrams.этот>\nngrams.едост\nword_ngrams.1917\nngrams.<соч.\nword_ngrams.Цит.\nngrams.арск\nngrams.таки\nngrams.<мнен\nngrams.<стр.\nngrams.об>\nngrams.нина>\nngrams.<Круп\nngrams.редсе\nngrams.езде>\nngrams.сторо\nngrams.ное\nword_ngrams.который\nword_ngrams.государственной\nngrams.917\nngrams.тски\nngrams.<чи\nngrams.ова\nword_ngrams.из\nngrams.от>\nngrams.<Улья\nngrams.ости\nngrams.сто\nngrams.<связ\nngrams.изация\nngrams.заций\nngrams.<ни\nngrams.<Сог\nngrams.брьска\nngrams.града>\nngrams.уры,>\nngrams.тория\nword_ngrams.или\nngrams.лит\nngrams.еррор>\nngrams.Предсе\nngrams.<по:>\nword_ngrams.Мы\nngrams.аря\nngrams.<во\nngrams.оторых\nword_ngrams.журнале\nngrams.дан\nngrams.<1903\nngrams.<мне\nngrams.<речи\nngrams.снов\nngrams.зда>\nngrams.лопед\nngrams.<в>\nngrams.Рос\nngrams.дру\nngrams.время>\nngrams.вгу\nngrams.<2014\nngrams.Всерос\nngrams.рор\nngrams.<мож\nngrams.<2>\nngrams.<со\nword_ngrams.эти\nngrams.<Петр\nngrams.атьи:\nngrams.<и.>\nngrams.рвы\nword_ngrams.Ф.\nword_ngrams.литературы,\nword_ngrams.собрание\nngrams.<с>\nngrams.зация>\nword_ngrams.Владимира\nngrams.<ка\nngrams.книг\nngrams.ресам\nngrams.<Кроме\nngrams.<2.>\nngrams.<комис\nngrams.сфе\nngrams.всем>\nngrams.прот\nngrams.гиоз\nngrams.<свой\nngrams.абочег\nngrams.шестве\nngrams.ЦК>\nngrams.дакц\nngrams.<XX\nngrams.лиз\nngrams.бре>\nngrams.авгус\nngrams.РСДРП>\nngrams.тноше\nngrams.опеди\nword_ngrams.он\nngrams.льных\nngrams.<мирно\nngrams.атья\nngrams.раз>\nngrams.<РКП\nngrams.ьту\nngrams.кже:\nngrams.нию,>\nngrams.лая>\nngrams.<путь\nngrams.тот>\nngrams.рое\nngrams.зви\nngrams.ноги\nngrams.бочего\nngrams.еред\nngrams.общест\nword_ngrams.июля\nngrams.РСФС\nngrams.лся>\nngrams.олют\nngrams.ази\nngrams.нутр\nngrams.<импер\nngrams.итори\nngrams.ПСС.>\nngrams.г..>\nword_ngrams.(В.\nngrams.пос\nngrams.<выст\nword_ngrams.1900\nngrams.кум\nngrams.т.>\nngrams.ечи\nngrams.нско\nngrams.реме\nword_ngrams.газеты\nngrams.ний>\nngrams.ти>\nngrams.нению\nword_ngrams.является\nngrams.ркви\nword_ngrams.основных\nngrams.<был\nngrams.<пис\nngrams.<член\nngrams.вных\nngrams.емокр\nngrams.<насел\nngrams.ия>\nngrams.рудящи\nngrams.тране>\nword_ngrams.партии,\nngrams.религи\nngrams.волю\nngrams.демок\nngrams.литика\nngrams.<Полит\nngrams.ссий\nngrams.нно\nngrams.Октябр\nngrams.рна\nngrams.люци\nngrams.нале>\nngrams.первые\nngrams.рнулс\nngrams.оенны\nngrams.ерроре\nngrams.рас\nword_ngrams.которое\nngrams.на.>\nngrams.миссар\nngrams.шеств\nngrams.итбюр\nngrams.<предс\nngrams.егаты>\nngrams.атель>\nword_ngrams.лишь\nngrams.<III\nngrams.ит.>\nngrams.век,>\nngrams.ктат\nngrams.ал,\nngrams.всег\nngrams.<быть>\nngrams.<чле\nngrams.реч\nngrams.ек,\nngrams.внутр\nngrams.вые\nngrams.Сим\nngrams.оенные\nngrams.ругих>\nword_ngrams.Религия\nngrams.5-е>\nngrams.го,\nngrams.судар\nngrams.сил\nngrams.ачала>\nngrams.<межд\nngrams.Биогра\nngrams.<её\nngrams.<н.>\nword_ngrams.свой\nngrams.<ан\nngrams.едосту\nngrams.ию,\nngrams.ковод\nngrams.<Под\nngrams.Владим\nngrams.ютно\nngrams.ельн\nngrams.<па\nngrams.стать\nngrams.ви>\nngrams.ародны\nngrams.<Отн\nngrams.раж\nngrams.ссар\nngrams.данск\nngrams.1923>\nngrams.жур\nword_ngrams.данной\nngrams.свое\nngrams.осе>\nngrams.мби\nngrams.нферен\nngrams.дарс\nngrams.<поч\nword_ngrams.больше\nngrams.ам>\nngrams.террит\nngrams.рско\nngrams.ел>\nngrams.-е.\nngrams.<ус\nngrams.енног\nngrams.Предс\nngrams.енины\nngrams.ость\nngrams.ана\nngrams.кие>\nword_ngrams.Ульянова\nword_ngrams.о\nngrams.тиздат\nngrams.торое\nword_ngrams.для\nword_ngrams.Ленине.\nngrams.солютн\nngrams.Г.>\nngrams.ква:>\nngrams.<уж\nngrams.<царск\nngrams.емьи\nngrams.ганиз\nngrams.ело\nngrams.икол\nngrams.кци\nngrams.Под>\nngrams.еррор\nngrams.народн\nngrams.<июн\nngrams.асс\nngrams.исьм\nngrams.являет\nngrams.ограф\nngrams.тране\nngrams.<газет\nngrams.войн\nngrams.ерс\nngrams.67.\nngrams.арод\nword_ngrams.имя\nngrams.СС.>\nngrams.<оп\nngrams.Выбор>\nngrams.<«Эксп\nngrams.<О.\nngrams.<ранее\nword_ngrams.Преемник\nngrams.<имя\nngrams.<вр\nngrams.еты\nngrams.стории\nword_ngrams.При\nngrams.<Поли\nngrams.конфер\nword_ngrams.книгу\nngrams.ная\nngrams.анее>\nngrams.ьша\nngrams.перед>\nngrams.лет>\nword_ngrams.только\nngrams.<ве\nngrams.ограда\nngrams.блика\nngrams.<1918>\nngrams.зация\nngrams.<дикта\nngrams.ском>\nngrams.<ср\nngrams.ритор\nword_ngrams.I\nword_ngrams.2007.\nngrams.нине>\nngrams.<для>\nngrams.<мно\nngrams.недос\nngrams.<меж\nngrams.ельнос\nngrams.<се\nngrams.РСДРП\nngrams.<чего\nngrams.едста\nngrams.зации,\nngrams.ин,\nngrams...>\nngrams.ерж\nngrams.ьшевис\nngrams.ских>\nword_ngrams.ноября\nngrams.олжна>\nword_ngrams.роль\nngrams.енин\nngrams.оответ\nngrams.афия\nngrams.игия>\nngrams.ов>\nngrams.<доп.\nngrams.одног\nngrams.спу\nngrams.побе\nngrams.имна\nngrams.<«Э\nword_ngrams.«Ленин\nngrams.<В.>\nngrams.тат\nngrams.<можно\nngrams.граф\nngrams.<1887>\nngrams.ьи:\nngrams.союз\nngrams.марте>\nngrams.новы\nngrams.сфере>\nngrams.<Выб\nngrams.<Да\nngrams.вляетс\nngrams.За>\nngrams.тст\nngrams.<жил>\nngrams.апре\nngrams.ово\nngrams.СССР\nngrams.фере>\nngrams.<как>\nngrams.<3-е\nngrams.рем\nngrams.етско\nngrams.Пайп\nngrams.рии\nngrams.летари\nngrams.ОН-ПРЕ\nngrams.мир\nngrams.920>\nngrams.лжны\nngrams.<одн\nngrams.града\nngrams.кла\nngrams.абот>\nngrams.<Sovie\nngrams.ддер\nngrams.первы\nngrams.нным\nngrams.скв\nword_ngrams.партии.\nngrams.рабочи\nngrams.00>\nngrams.рно\nngrams.ДРП>\nngrams.<XIX\nngrams.<Петро\nngrams.вен\nngrams.кви>\nngrams.<годы>\nngrams.<Биог\nngrams.илосо\nngrams.<Истор\nngrams.вержда\nngrams.ойны\nngrams.юции\nngrams.<газе\nngrams.года)>\nngrams.ержк\nngrams.итб\nword_ngrams.В.,\nngrams.<The\nngrams.<бы>\nword_ngrams.именно\nword_ngrams.История\nngrams.себе>\nngrams.воим\nngrams.льян\nngrams.егаты\nngrams.ског\nngrams.атель\nngrams.viet>\nngrams.нул\nngrams.з-з\nngrams.<сочин\nngrams.сал:>\nngrams.<2008\nngrams.екаб\nngrams.Он>\nngrams.<сов\nngrams.дарст\nngrams.юро>\nngrams.<года,\nngrams.<Васи\nngrams.ры,>\nngrams.ПРЕСС,\nngrams.ловек\nngrams.<год.>\nngrams.иозных\nngrams.траны>\nngrams.ругих\nngrams.<Росси\nngrams.<Дат\nngrams.данско\nngrams.ачала\nngrams.а:>\nngrams.ории.\nngrams.олжна\nngrams.Гражд\nngrams.<союз\nngrams.овек,\nngrams.<таки\nngrams.але>\nngrams.тари\nngrams.<Симб\nngrams.сочине\nngrams.наро\nngrams.<мо\nword_ngrams.церкви\nngrams.тии.>\nngrams.ции,>\nngrams.оторог\nngrams.рание>\nngrams.обход\nngrams.воей\nngrams.сво\nngrams.Рели\nngrams.аждан\nngrams.тороны\nngrams.гим\nword_ngrams.был\nngrams.усска\nngrams.<це\nngrams.изм\nngrams.перв\nngrams.967\nngrams.фман\nngrams.//>\nngrams.води\nngrams.<члено\nngrams.<ря\nngrams.еня>\nngrams.<его\nngrams.истс\nngrams.<%>\nngrams.<(не\nngrams.916>\nngrams.<идеи\nngrams.оторые\nngrams.шев\nngrams.етрог\nngrams.редс\nngrams.трог\nword_ngrams.русской\nngrams.оенн\nngrams.сьме>\nngrams.егат\nngrams.итбюро\nngrams.оводил\nngrams.письм\nngrams.жнос\nngrams.рядо\nngrams.дног\nngrams.<7>\nngrams.<вперв\nngrams.<кн\nngrams.ч.,\nngrams.яко\nngrams.ционны\nword_ngrams.организация\nngrams.<ос\nword_ngrams.жизнь\nngrams.ксан\nngrams.Изда\nngrams.сех\nword_ngrams.соответствии\nngrams.брание\nngrams.<англ\nngrams.11>\nngrams.Деле\nngrams.айпс>\nngrams.<они>\nngrams.режд\nngrams.чего\nngrams.ти,\nngrams.Кру\nngrams.итизда\nngrams.сочин\nngrams.олитбю\nngrams.<данны\nngrams.тов>\nngrams.олитб\nword_ngrams.этот\nngrams.<разви\nngrams.ина,\nngrams.тье\nngrams.22>\nngrams.сновна\nngrams.дил>\nngrams.<Цит.>\nngrams.<Пер.>\nngrams.<имп\nngrams.оте>\nword_ngrams.новой\nngrams.истски\nngrams.енного\nngrams.рание\nngrams.ан>\nngrams.поб\nngrams.ура\nngrams.озмож\nngrams.тнош\nngrams.<него\nword_ngrams.трудящихся\nngrams.итали\nngrams.раны>\nword_ngrams.председатель\nword_ngrams.с\nngrams.верс\nngrams.иным>\nngrams.оторы\nngrams.Никол\nngrams.графия\nngrams.едате\nword_ngrams.ещё\nngrams.ано\nngrams.<Бо\nngrams.апр\nngrams.доме>\nword_ngrams.6\nngrams.ики\nngrams.ине>\nngrams.рсите\nngrams.<док\nngrams.<V>\nngrams.ишет\nngrams.год\nngrams.<побед\nngrams.чи>\nngrams.емо\nngrams.клопе\nngrams.уков\nngrams.лжен>\nngrams.ду,>\nngrams.ветска\nngrams.<ПС\nngrams.<возм\nngrams.гаты\nngrams.ер.>\nngrams.гг.>\nngrams.идеи>\nngrams.шевика\nngrams.мира>\nngrams.туры,\nngrams.Издате\nngrams.<«Л\nngrams.брани\nngrams.<Вопр\nngrams.латы>\nngrams.ительс\nngrams.<В.,\nngrams.ррит\nngrams.рстве\nngrams.рез\nngrams.дше\nword_ngrams.п.\nngrams.истиче\nngrams.исал:\nngrams.<эту\nngrams.Дорман\nngrams.<усл\nword_ngrams.Лениным\nngrams.Н-ПРЕ\nngrams.<М.>\nngrams.<том>\nngrams.<1997.\nngrams.дны\nword_ngrams.общества\nngrams.ирног\nngrams.ниг\nngrams.тной\nngrams.оль>\nngrams.гра\nngrams.ла>\nngrams.ика,>\nngrams.РЕСС,\nngrams.<Полн.\nngrams.<союзо\nngrams.счит\nngrams.зате\nngrams.<дикт\nngrams.траны\nngrams.емок\nngrams.де>\nngrams.итиче\nword_ngrams.власти\nngrams.ия,\nngrams.<когда\nngrams.<миро\nngrams.тоб\nngrams.з.>\nngrams.<причи\nngrams.имназ\nngrams.отор\nngrams.вити\nngrams.иал-де\nngrams.цион\nngrams.зи>\nngrams.1924>\nngrams.редст\nngrams.тяб\nngrams.КРОН-П\nngrams.дик\nngrams.-ПРЕСС\nngrams.<свыш\nngrams.967.>\nngrams.ого\nngrams.том,>\nngrams.<100>\nngrams.ем>\nngrams.<им\nword_ngrams.25\nngrams.внут\nngrams.абс\nngrams.Серия>\nngrams.И.>\nngrams.<М.:>\nngrams.<ме\nngrams.кло\nngrams.изма>\nngrams.глас\nngrams.роре>\nword_ngrams.Полное\nngrams.зных\nngrams.тског\nngrams.ня>\nngrams.Русска\nngrams.<ран\nngrams.ъезд>\nngrams.<она\nngrams.<Си\nngrams.рвые>\nngrams.раб\nword_ngrams.съезд\nword_ngrams.1-е.\nngrams.дшеств\nngrams.<класс\nngrams.<новых\nngrams.торо\nngrams.жизнь>\nngrams.щения>\nngrams.898\nngrams.очине\nngrams.инени\nngrams.<прежд\nngrams.было>\nngrams.ласс\nngrams.имо>\nngrams.<соч.,\nngrams.тель\nngrams.тран\nngrams.утверж\nngrams.<груп\nngrams.ричине\nngrams.рган\nngrams.экз.>\nngrams.прель>\nngrams.Дел\nngrams.они>\nngrams.<Посл\nngrams.ман>\nngrams.еркви>\nngrams.<русс\nngrams.ерро\nngrams.еско\nngrams.съезд>\nngrams.<I>\nngrams.<стр.>\nngrams.еем\nngrams.обор\nngrams.<съезд\nword_ngrams.1918\nngrams.оскв\nngrams.ьности\nngrams.сте>\nngrams.тав\nngrams.жуа\nngrams.ог>\nngrams.<С.>\nngrams.вгуста\nngrams.ости>\nngrams.<188\nngrams.твет\nword_ngrams.декабря\nngrams.ода\nngrams.191\nword_ngrams.Советской\nword_ngrams.and\nngrams.итерат\nngrams.<Ис\nngrams.<гг\nngrams.<семь\nngrams.<1903>\nngrams.<Март\nngrams.тие>\nword_ngrams.должны\nngrams.итбю\nngrams.ринима\nword_ngrams.В\nngrams.жност\nngrams.дия,\nngrams.<Лени\nngrams.<2014>\nngrams.рито\nngrams.ОН-\nngrams.nin>\nngrams.<возмо\nngrams.ябрь\nngrams.чих>\nngrams.Серия\nngrams.имал\nngrams.<со>\nngrams.<//\nword_ngrams.Р.\nngrams.пла\nngrams.ьеви\nngrams.еобх\nngrams.тупн\nngrams.Издат\nngrams.нин,\nngrams.но>\nngrams.суда\nngrams.еди>\nngrams.езд>\nword_ngrams.нового\nword_ngrams.съезда\nngrams.года>\nngrams.есс\nngrams.<конфе\nngrams.истич\nngrams.нцикл\nngrams.<может\nngrams.Пер\nngrams.нима\nngrams.нап\nngrams.рьбы\nngrams.щения\nngrams.<дек\nngrams.<необ\nngrams.хся\nword_ngrams.1\nngrams.удя\nngrams.05.>\nngrams.ьтур\nngrams.подде\nngrams.универ\nngrams.тр.\nword_ngrams.Петрограда\nngrams.<ноябр\nngrams.ехано\nngrams.имн\nngrams.сия\nngrams.орга\nngrams.циализ\nngrams.месте>\nngrams.отором\nngrams.<Ци\nngrams.чен\nngrams.<буржу\nngrams.чий\nngrams.<Ист\nngrams.еркви\nngrams.окуме\nngrams.ийской\nword_ngrams.к\nngrams.тическ\nngrams.<Ло\nngrams.зат\nngrams.еред>\nngrams.съезд\nngrams.<ког\nngrams.решен\nword_ngrams.среди\nngrams.<с.\nngrams.стор\nngrams.е:>\nngrams.оюз\nngrams.<1-\nngrams.Выбо\nngrams.ератур\nngrams.овека>\nngrams.<когд\nngrams.<тем>\nngrams.<Граж\nngrams.<опл\nngrams.ренции\nngrams.еле>\nngrams.<ни>\nngrams.ериали\nngrams.евис\nngrams.утр\nngrams.росс\nngrams.сер\nngrams.адач\nngrams.ЕСС\nword_ngrams.тех\nword_ngrams.1901\nngrams.пут\nngrams.<во>\nngrams.среди>\nword_ngrams.что\nword_ngrams.Россия\nngrams.<нам\nngrams.дов\nngrams.Ист\nngrams.ты>\nngrams.ный>\nngrams.нской>\nngrams.448>\nngrams.<ПСС.\nngrams.ро>\nngrams.<год\nword_ngrams.котором\nngrams.<1923\nngrams.Преемн\nngrams.ря>\nngrams.ал,>\nword_ngrams.Lenin\nngrams.<Вопро\nngrams.СДРПДе\nngrams.ала>\nngrams.сово\nword_ngrams.всем\nngrams.05>\nngrams.ека>\nword_ngrams.революционного\nngrams.РКП(\nngrams.ричин\nngrams.<може\nngrams.<кла\nngrams.нгл\nngrams.<орга\nngrams.приним\nngrams.<задач\nngrams.боче\nngrams.иозны\nngrams.удящ\nngrams.ческих\n"
    }
   ],
   "source": [
    "for k in dc.storage._db:\n",
    "    print (k)"
   ]
  },
  {
   "cell_type": "code",
   "execution_count": 29,
   "metadata": {},
   "outputs": [
    {
     "data": {
      "text/plain": "['</s>',\n 'в',\n 'и',\n '—',\n 'Ленин',\n 'на',\n 'В.',\n 'с',\n 'В',\n 'И.',\n 'не',\n 'по',\n 'Ленина',\n 'что',\n 'года',\n 'о',\n 'С.',\n 'к',\n 'А.',\n 'из',\n 'как',\n 'от',\n 'его',\n 'он',\n 'М.:',\n 'Н.',\n '//',\n 'для',\n 'с.',\n 'был',\n 'ISBN',\n 'за',\n 'М.',\n 'было',\n 'а',\n '1917',\n 'Владимир',\n 'году',\n '№',\n '1918',\n '/',\n 'или',\n 'революции',\n 'Т.',\n 'Г.',\n 'России',\n 'были',\n 'до',\n 'По',\n 'но',\n '·',\n 'Ульянов',\n 'это',\n 'против',\n 'Л.',\n 'г.',\n 'Ильич',\n 'была',\n 'время',\n 'только',\n 'же',\n 'Ленин.',\n 'их',\n 'этом',\n 'большевиков',\n 'СССР',\n 'П.',\n 'Ю.',\n 'во',\n 'М.,',\n '1920',\n 'под',\n 'партии',\n 'На',\n 'апреля',\n 'со',\n 'Д.',\n 'II',\n 'после',\n 'ни',\n 'всех',\n 'января',\n 'своей',\n 'Ф.',\n 'так',\n 'РСДРП',\n 'С',\n 'при',\n 'Ленина,',\n 'Ленин,',\n 'её',\n 'К.',\n 'ЦК',\n 'октября',\n 'чтобы',\n 'т.',\n 'у',\n 'все',\n 'съезда',\n 'истории',\n 'вместе',\n 'власти',\n 'Совета',\n ':',\n 'съезде',\n 'После',\n 'революция',\n 'ему',\n 'России.',\n 'Советской',\n 'об',\n 'мы',\n 'газеты',\n 'года,',\n 'одной',\n 'бы',\n 'где',\n 'период',\n '10',\n 'без',\n 'быть',\n 'ноября',\n 'мнению',\n 'июля',\n 'других',\n 'народных',\n 'то',\n 'ещё',\n 'также',\n 'которой',\n 'террор',\n 'более',\n 'правительства',\n 'Е.',\n 'Он',\n 'Ленину',\n '21',\n '1922',\n 'том,',\n 'революционной',\n '1919',\n '3',\n 'советской',\n 'даже',\n 'конференции',\n 'года.',\n 'Владимира',\n 'and',\n 'год',\n 'О',\n 'XX',\n 'рабочих',\n 'ПСС.',\n 'См.',\n 'этого',\n 'собрание',\n 'работе',\n 'революционного',\n 'которых',\n '17',\n 'труда',\n 'Ульянова',\n 'есть',\n 'мая',\n '1997.',\n 'им',\n 'свою',\n 'РСФСР',\n 'The',\n 'Ленина.',\n '1924',\n 'Флаг',\n 'уже',\n 'своих',\n 'декабря',\n 'среди',\n 'съезд',\n '«О',\n 'Российской',\n 'Гражданской',\n 'августа',\n 'чем',\n 'экз.',\n 'этой',\n 'мировой',\n 'России,',\n 'войны',\n 'можно',\n 'Б.',\n 'семьи',\n 'Лениным',\n 'собр.',\n 'перед',\n 'которые',\n 'социалистической',\n 'этот',\n '1923',\n 'РКП(б)',\n '30',\n 'При',\n '25',\n 'борьбе',\n 'организации',\n 'Полное',\n 'Александр',\n 'себя',\n 'Политиздат,',\n 'комиссаров',\n 'ред.',\n 'роль',\n 'Как',\n 'борьбы',\n 'связи',\n 'стр.',\n 'Советская',\n 'пролетариата',\n 'Роль',\n 'я',\n 'партии,',\n 'Издательство',\n 'III',\n 'Пер.',\n 'РКП(б)Делегаты',\n 'лишь',\n 'деятельности',\n 'Для',\n 'капитализма',\n '(в',\n 'того,',\n 'Москва:',\n '24',\n 'социальной',\n '1.',\n '1905',\n 'политической',\n 'тот',\n 'изд.',\n 'лет',\n '5',\n 'также:',\n 'когда',\n 'тем',\n '2',\n 'обращения',\n '2008.',\n 'него',\n 'Дата',\n '4',\n 'раз',\n '1903',\n 'которого',\n 'Основная',\n 'наиболее',\n 'Это',\n 'статья:',\n 'РСДРПДелегаты',\n 'Николая',\n '16',\n 'литературы,',\n 'момент',\n 'годов',\n 'стороны',\n 'них',\n 'Ленина:',\n 'очень',\n 'жил',\n '448',\n 'рабочего',\n 'Председатель',\n 'университета',\n 'большевики',\n 'К',\n 'война',\n 'англ.',\n '1900',\n '%',\n 'государственного',\n 'может',\n 'of',\n 'свои',\n 'работы',\n 'впервые',\n '7',\n 'над',\n 'Кроме',\n 'И',\n 'д.',\n 'политических',\n 'нам',\n 'одного',\n 'населения',\n 'н.',\n '5-е',\n 'утверждал,',\n 'сочинений',\n 'сам',\n 'изд.,',\n 'затем',\n '22',\n '(недоступная',\n 'государства,',\n 'Об',\n 'стране',\n 'История',\n 'писал:',\n 'О.',\n 'Под',\n 'должна',\n 'через',\n 'Революционный',\n 'необходимо',\n '2005.',\n 'жизнь',\n 'целью',\n '2010.',\n 'Крупская',\n 'революции,',\n '2.',\n 'то,',\n 'др.',\n 'многие',\n 'написал',\n 'соч.,',\n 'Логинов',\n 'декабре',\n 'работ',\n 'один',\n 'основных',\n 'Основные',\n 'всю',\n 'Дорман.',\n 'из-за',\n 'марта',\n 'Мартов',\n 'будет',\n 'Плеханов',\n 'I',\n 'необходимости',\n 'является',\n 'апреле',\n 'годы',\n 'политика',\n 'обороны',\n 'часто',\n 'Полн.',\n '(Серия',\n 'право',\n 'Soviet',\n '11',\n 'Революция',\n 'Октябрьская',\n 'они',\n 'историк',\n 'Р.',\n '12',\n 'которое',\n 'конце',\n 'вполне',\n 'должен',\n 'общества',\n 'эту',\n 'российской',\n 'Россия',\n 'и.',\n 'оплаты',\n 'доме',\n 'который',\n 'КРОН-ПРЕСС,',\n 'лидер',\n 'Ленине.',\n 'Пайпс',\n 'Ленине',\n 'трудящихся',\n 'свой',\n 'июня',\n 'статье',\n 'котором',\n 'начале',\n '1',\n '1-е.',\n 'Гейфман',\n 'века',\n 'членов',\n 'Первая',\n '000',\n 'революции.',\n 'должность',\n 'которую',\n 'партии.',\n 'том',\n 'стал',\n 'Русская',\n 'писал',\n 'председатель',\n 'никогда',\n 'Большая',\n 'необходимость',\n '6',\n 'внутри',\n 'марте',\n 'Россию',\n '15',\n 'классовой',\n 'ранее',\n 'Здесь',\n 'она',\n 'русской',\n 'жизни',\n 'именно',\n '1916',\n 'Глава',\n 'выступал',\n 'начала',\n 'представителей',\n 'года)',\n 'вопросе',\n '20',\n 'мнению,',\n 'всякого',\n '100',\n '1887',\n 'человека',\n '8',\n 'Цит.',\n 'апрель',\n 'мог',\n 'большевистской',\n 'идеи',\n '1906',\n 'ПСС,',\n 'числе',\n 'соответствии',\n 'ночь',\n 'Всероссийском',\n 'XIX',\n 'in',\n 'кто',\n 'причине',\n 'власть',\n 'Временного',\n 'всего',\n '1967.',\n 'новых',\n 'Жизнь',\n 'гимназии',\n 'церкви',\n 'власти,',\n 'диктатура',\n 'своего',\n 'по:',\n 'войне',\n 'сочинений.',\n 'доп.',\n 'большевиками',\n 'возможности',\n '1904',\n 'Во',\n 'социализм',\n 'поддержке',\n '«Ленин',\n 'царской',\n 'организаций',\n 'тех',\n '1898',\n 'Республика,',\n 'мирного',\n 'государства',\n 'Том',\n 'меня',\n 'принимал',\n 'наций',\n 'письме',\n 'Васильевич',\n '«Экспресс»)',\n 'историка',\n 'Выбор',\n '26',\n 'энциклопедия,',\n 'гг.',\n '1912',\n 'почти',\n 'всем',\n 'Lenin',\n 'себе',\n 'больше',\n 'P.',\n 'военные',\n 'чего',\n 'свыше',\n 'правительство',\n 'Преемник',\n 'Большевики',\n 'Предшественник',\n 'данным',\n 'году,',\n 'имя',\n 'январе',\n 'государственной',\n '2007.',\n 'истории.',\n 'вернулся',\n 'книгу',\n 'вопрос',\n 'эти',\n 'друг',\n 'имел',\n '3-е',\n 'годах',\n 'много',\n 'руководил',\n 'задачи',\n 'организации,',\n 'дня',\n 'Я',\n 'между',\n 'прежде',\n 'советского',\n 'политики',\n 'п.',\n 'Советского',\n 'гг..',\n 'группа',\n 'Политбюро',\n 'дело',\n 'статьи:',\n 'год.',\n 'получили',\n 'религиозных',\n 'Но',\n 'участие',\n 'ли',\n 'Мы',\n 'характер',\n 'документов',\n '(В.',\n 'данной',\n 'считал',\n 'За',\n 'условия',\n 'Культурная',\n 'сфере',\n 'такие',\n 'пишет',\n '%,',\n 'социального',\n 'социальных',\n 'нового',\n 'пролетариат',\n 'речи',\n 'Религия',\n 'социалистического',\n 'Ульяновых',\n 'собственной',\n 'V',\n 'возрасте',\n 'путь',\n 'развития',\n 'должны',\n 'рабочий',\n 'Вопрос',\n 'В.,',\n 'смерти',\n 'Петрограда',\n 'анализ',\n 'новой',\n 'Согласно',\n 'философия',\n 'лично',\n 'буржуазной',\n 'терроре',\n 'империалистической',\n 'Отношение',\n 'победы',\n 'Крупской',\n 'абсолютной',\n 'части',\n '2014',\n '1921',\n 'страны',\n 'сил',\n 'исторической',\n 'Центральный',\n 'Симбирской',\n '1901',\n 'энциклопедия',\n 'своим',\n 'большевистских',\n 'организация',\n 'редакции',\n 'интересам',\n 'рядом',\n 'СНК',\n 'несколько',\n 'СССР,',\n 'социал-демократов',\n 'первом',\n 'журнале',\n 'решение',\n 'союзов',\n 'Биография',\n 'человек,',\n 'территории']"
     },
     "execution_count": 29,
     "metadata": {},
     "output_type": "execute_result"
    }
   ],
   "source": [
    "model._words"
   ]
  },
  {
   "cell_type": "code",
   "execution_count": 20,
   "metadata": {},
   "outputs": [
    {
     "name": "stdout",
     "output_type": "stream",
     "text": "<ле\n0.0\n<лен\n"
    },
    {
     "ename": "TypeError",
     "evalue": "unsupported operand type(s) for -: 'NoneType' and 'float'",
     "output_type": "error",
     "traceback": [
      "\u001b[0;31m---------------------------------------------------------------------------\u001b[0m",
      "\u001b[0;31mTypeError\u001b[0m                                 Traceback (most recent call last)",
      "\u001b[0;32m<ipython-input-20-a5cb73862238>\u001b[0m in \u001b[0;36m<module>\u001b[0;34m\u001b[0m\n\u001b[1;32m      2\u001b[0m     \u001b[0mw\u001b[0m \u001b[0;34m=\u001b[0m \u001b[0mi\u001b[0m\u001b[0;34m[\u001b[0m\u001b[0;36m0\u001b[0m\u001b[0;34m]\u001b[0m\u001b[0;34m\u001b[0m\u001b[0m\n\u001b[1;32m      3\u001b[0m     \u001b[0mprint\u001b[0m \u001b[0;34m(\u001b[0m\u001b[0mw\u001b[0m\u001b[0;34m)\u001b[0m\u001b[0;34m\u001b[0m\u001b[0m\n\u001b[0;32m----> 4\u001b[0;31m     \u001b[0mprint\u001b[0m \u001b[0;34m(\u001b[0m\u001b[0;34m(\u001b[0m\u001b[0mdc\u001b[0m\u001b[0;34m.\u001b[0m\u001b[0mget_ngram_vector\u001b[0m\u001b[0;34m(\u001b[0m\u001b[0mw\u001b[0m\u001b[0;34m)\u001b[0m \u001b[0;34m-\u001b[0m \u001b[0mmodel\u001b[0m\u001b[0;34m.\u001b[0m\u001b[0mget_input_vector\u001b[0m\u001b[0;34m(\u001b[0m\u001b[0mi\u001b[0m\u001b[0;34m[\u001b[0m\u001b[0;36m1\u001b[0m\u001b[0;34m]\u001b[0m\u001b[0;34m)\u001b[0m\u001b[0;34m)\u001b[0m\u001b[0;34m.\u001b[0m\u001b[0msum\u001b[0m\u001b[0;34m(\u001b[0m\u001b[0;34m)\u001b[0m\u001b[0;34m)\u001b[0m\u001b[0;34m\u001b[0m\u001b[0m\n\u001b[0m",
      "\u001b[0;31mTypeError\u001b[0m: unsupported operand type(s) for -: 'NoneType' and 'float'"
     ]
    }
   ],
   "source": [
    "for i in zip(idx[0], idx[1]): \n",
    "    w = i[0]\n",
    "    print (w)\n",
    "    print ((dc.get_ngram_vector(w) - model.get_input_vector(i[1])).sum())"
   ]
  },
  {
   "cell_type": "code",
   "execution_count": 54,
   "metadata": {},
   "outputs": [
    {
     "data": {
      "text/plain": "array([-0.06453893,  0.0930501 , -0.05321778, -0.04897046, -0.04192388,\n       -0.06683032,  0.10498592, -0.00214278,  0.05364072,  0.0327807 ,\n       -0.19478486,  0.01362339, -0.02251976, -0.03940681,  0.01539196,\n       -0.01570239,  0.02207801,  0.03701511,  0.0394493 , -0.13102283,\n       -0.02236869,  0.12979376, -0.01557101,  0.02558311, -0.01263936,\n       -0.03850377,  0.06692874, -0.08996119, -0.04744707,  0.03577779,\n       -0.12439587,  0.13861091, -0.05078376, -0.0286837 ,  0.02170644,\n       -0.01497566,  0.0225643 , -0.07188074, -0.07700191, -0.00581786,\n        0.06023261,  0.00487985,  0.08816288,  0.0175531 , -0.03513728,\n       -0.0195913 ,  0.01878416, -0.05972658, -0.01932443,  0.11471016,\n       -0.10450994, -0.12322816,  0.13805678,  0.17926702, -0.10862418,\n        0.04115304, -0.05995381,  0.03707696, -0.09419206,  0.1186209 ,\n       -0.0011181 ,  0.03387016,  0.1607741 , -0.10124911,  0.05376586,\n       -0.00112932, -0.12756921,  0.09057014, -0.00435755, -0.03729191,\n        0.04345436, -0.05507552,  0.00470658,  0.05343376,  0.01748856,\n        0.05518458,  0.06377836,  0.11788628,  0.07692532,  0.03833687,\n        0.02684354, -0.1025588 ,  0.02553596,  0.09430538, -0.02662745,\n        0.16519813,  0.00561498, -0.02152772,  0.09693485,  0.03408916,\n       -0.0404119 , -0.00151486,  0.03840708,  0.00425206, -0.02205693,\n       -0.09746295, -0.2191513 ,  0.00759576, -0.17059655,  0.14263646],\n      dtype=float32)"
     },
     "execution_count": 54,
     "metadata": {},
     "output_type": "execute_result"
    }
   ],
   "source": [
    "model.get_input_vector(1009063)\n",
    "#dc.get_ngram_vector('<ле')"
   ]
  },
  {
   "cell_type": "code",
   "execution_count": 10,
   "metadata": {},
   "outputs": [
    {
     "data": {
      "text/plain": "1"
     },
     "execution_count": 10,
     "metadata": {},
     "output_type": "execute_result"
    }
   ],
   "source": [
    "len([dc])"
   ]
  },
  {
   "cell_type": "code",
   "execution_count": 9,
   "metadata": {},
   "outputs": [
    {
     "data": {
      "text/plain": [
       "<module 'compressors.compressor8' from '/home/legin/ft_compress/ft_compress/compressors/compressor8.py'>"
      ]
     },
     "execution_count": 9,
     "metadata": {},
     "output_type": "execute_result"
    }
   ],
   "source": [
    "import compressors.compressor8 as d \n",
    "from importlib import reload\n",
    "reload(d)"
   ]
  },
  {
   "cell_type": "code",
   "execution_count": 10,
   "metadata": {},
   "outputs": [
    {
     "name": "stderr",
     "output_type": "stream",
     "text": [
      "[2020-01-12 14:35:37,861] [DEBUG] - Loading words\n",
      "[2020-01-12 14:35:48,702] [WARNING] - Too many ngrams, breaking\n",
      "[2020-01-12 14:35:48,702] [WARNING] - Too many ngrams, breaking\n",
      "[2020-01-12 14:35:48,702] [DEBUG] - Estimating parameters\n",
      "[2020-01-12 14:36:15,707] [DEBUG] - filling matrix\n"
     ]
    },
    {
     "ename": "KeyboardInterrupt",
     "evalue": "",
     "output_type": "error",
     "traceback": [
      "\u001b[0;31m---------------------------------------------------------------------------\u001b[0m",
      "\u001b[0;31mKeyboardInterrupt\u001b[0m                         Traceback (most recent call last)",
      "\u001b[0;32m<ipython-input-10-a6f7f8d74045>\u001b[0m in \u001b[0;36m<module>\u001b[0;34m\u001b[0m\n\u001b[0;32m----> 1\u001b[0;31m \u001b[0mdc\u001b[0m \u001b[0;34m=\u001b[0m \u001b[0md\u001b[0m\u001b[0;34m.\u001b[0m\u001b[0mCompressor8bit\u001b[0m\u001b[0;34m(\u001b[0m\u001b[0mmodel\u001b[0m\u001b[0;34m,\u001b[0m \u001b[0;36m2500000\u001b[0m\u001b[0;34m)\u001b[0m \u001b[0;31m#~50% percents\u001b[0m\u001b[0;34m\u001b[0m\u001b[0m\n\u001b[0m",
      "\u001b[0;32m~/ft_compress/ft_compress/compressors/compressor8.py\u001b[0m in \u001b[0;36m__init__\u001b[0;34m(self, ft_model, maxsize)\u001b[0m\n\u001b[1;32m     30\u001b[0m         \u001b[0;32mfor\u001b[0m \u001b[0mnew_id\u001b[0m\u001b[0;34m,\u001b[0m\u001b[0mn\u001b[0m \u001b[0;32min\u001b[0m \u001b[0menumerate\u001b[0m\u001b[0;34m(\u001b[0m\u001b[0mself\u001b[0m\u001b[0;34m.\u001b[0m\u001b[0mngrams\u001b[0m\u001b[0;34m)\u001b[0m\u001b[0;34m:\u001b[0m\u001b[0;34m\u001b[0m\u001b[0m\n\u001b[1;32m     31\u001b[0m             \u001b[0mold_id\u001b[0m \u001b[0;34m=\u001b[0m \u001b[0mself\u001b[0m\u001b[0;34m.\u001b[0m\u001b[0mngrams\u001b[0m\u001b[0;34m[\u001b[0m\u001b[0mn\u001b[0m\u001b[0;34m]\u001b[0m\u001b[0;34m\u001b[0m\u001b[0m\n\u001b[0;32m---> 32\u001b[0;31m             \u001b[0mself\u001b[0m\u001b[0;34m.\u001b[0m\u001b[0mngrams\u001b[0m\u001b[0;34m[\u001b[0m\u001b[0mn\u001b[0m\u001b[0;34m]\u001b[0m \u001b[0;34m=\u001b[0m \u001b[0mself\u001b[0m\u001b[0;34m.\u001b[0m\u001b[0mvector_to_bytes\u001b[0m\u001b[0;34m(\u001b[0m\u001b[0mft_model\u001b[0m\u001b[0;34m.\u001b[0m\u001b[0mget_input_vector\u001b[0m\u001b[0;34m(\u001b[0m\u001b[0mold_id\u001b[0m\u001b[0;34m)\u001b[0m\u001b[0;34m)\u001b[0m\u001b[0;34m\u001b[0m\u001b[0m\n\u001b[0m\u001b[1;32m     33\u001b[0m         \u001b[0mlogging\u001b[0m\u001b[0;34m.\u001b[0m\u001b[0mdebug\u001b[0m\u001b[0;34m(\u001b[0m\u001b[0;34m'ready'\u001b[0m\u001b[0;34m)\u001b[0m\u001b[0;34m\u001b[0m\u001b[0m\n\u001b[1;32m     34\u001b[0m         \u001b[0mself\u001b[0m\u001b[0;34m.\u001b[0m\u001b[0mbyte_size\u001b[0m \u001b[0;34m=\u001b[0m \u001b[0mlen\u001b[0m\u001b[0;34m(\u001b[0m\u001b[0mself\u001b[0m\u001b[0;34m.\u001b[0m\u001b[0mngrams\u001b[0m\u001b[0;34m[\u001b[0m\u001b[0mn\u001b[0m\u001b[0;34m]\u001b[0m\u001b[0;34m)\u001b[0m\u001b[0;34m\u001b[0m\u001b[0m\n",
      "\u001b[0;32m/usr/local/lib/python3.5/dist-packages/fasttext/FastText.py\u001b[0m in \u001b[0;36mget_input_vector\u001b[0;34m(self, ind)\u001b[0m\n\u001b[1;32m    112\u001b[0m         \u001b[0mb\u001b[0m \u001b[0;34m=\u001b[0m \u001b[0mfasttext\u001b[0m\u001b[0;34m.\u001b[0m\u001b[0mVector\u001b[0m\u001b[0;34m(\u001b[0m\u001b[0mdim\u001b[0m\u001b[0;34m)\u001b[0m\u001b[0;34m\u001b[0m\u001b[0m\n\u001b[1;32m    113\u001b[0m         \u001b[0mself\u001b[0m\u001b[0;34m.\u001b[0m\u001b[0mf\u001b[0m\u001b[0;34m.\u001b[0m\u001b[0mgetInputVector\u001b[0m\u001b[0;34m(\u001b[0m\u001b[0mb\u001b[0m\u001b[0;34m,\u001b[0m \u001b[0mind\u001b[0m\u001b[0;34m)\u001b[0m\u001b[0;34m\u001b[0m\u001b[0m\n\u001b[0;32m--> 114\u001b[0;31m         \u001b[0;32mreturn\u001b[0m \u001b[0mnp\u001b[0m\u001b[0;34m.\u001b[0m\u001b[0marray\u001b[0m\u001b[0;34m(\u001b[0m\u001b[0mb\u001b[0m\u001b[0;34m)\u001b[0m\u001b[0;34m\u001b[0m\u001b[0m\n\u001b[0m\u001b[1;32m    115\u001b[0m \u001b[0;34m\u001b[0m\u001b[0m\n\u001b[1;32m    116\u001b[0m     \u001b[0;32mdef\u001b[0m \u001b[0mpredict\u001b[0m\u001b[0;34m(\u001b[0m\u001b[0mself\u001b[0m\u001b[0;34m,\u001b[0m \u001b[0mtext\u001b[0m\u001b[0;34m,\u001b[0m \u001b[0mk\u001b[0m\u001b[0;34m=\u001b[0m\u001b[0;36m1\u001b[0m\u001b[0;34m,\u001b[0m \u001b[0mthreshold\u001b[0m\u001b[0;34m=\u001b[0m\u001b[0;36m0.0\u001b[0m\u001b[0;34m,\u001b[0m \u001b[0mon_unicode_error\u001b[0m\u001b[0;34m=\u001b[0m\u001b[0;34m'strict'\u001b[0m\u001b[0;34m)\u001b[0m\u001b[0;34m:\u001b[0m\u001b[0;34m\u001b[0m\u001b[0m\n",
      "\u001b[0;31mKeyboardInterrupt\u001b[0m: "
     ]
    }
   ],
   "source": [
    "dc = d.Compressor8bit(model, 2500000) #~50% percents"
   ]
  },
  {
   "cell_type": "code",
   "execution_count": 23,
   "metadata": {},
   "outputs": [
    {
     "data": {
      "text/plain": [
       "['<ba',\n",
       " '<ban',\n",
       " '<bana',\n",
       " '<banan',\n",
       " 'ban',\n",
       " 'bana',\n",
       " 'banan',\n",
       " 'banana',\n",
       " 'ana',\n",
       " 'anan',\n",
       " 'anana',\n",
       " 'ananan',\n",
       " 'nan',\n",
       " 'nana',\n",
       " 'nanan',\n",
       " 'nanana',\n",
       " 'ana',\n",
       " 'anan',\n",
       " 'anana',\n",
       " 'ananan',\n",
       " 'nan',\n",
       " 'nana',\n",
       " 'nanan',\n",
       " 'nanana',\n",
       " 'ana',\n",
       " 'anan',\n",
       " 'anana',\n",
       " 'ananan',\n",
       " 'nan',\n",
       " 'nana',\n",
       " 'nanan',\n",
       " 'nanana',\n",
       " 'ana',\n",
       " 'anan',\n",
       " 'anana',\n",
       " 'anana>',\n",
       " 'nan',\n",
       " 'nana',\n",
       " 'nana>',\n",
       " 'ana',\n",
       " 'ana>',\n",
       " 'na>']"
      ]
     },
     "execution_count": 23,
     "metadata": {},
     "output_type": "execute_result"
    }
   ],
   "source": [
    "model.get_subwords('bananananana')[0]"
   ]
  },
  {
   "cell_type": "code",
   "execution_count": 0,
   "metadata": {},
   "outputs": [],
   "source": [
    "v = model.get_input_vector(0)"
   ]
  },
  {
   "cell_type": "code",
   "execution_count": 0,
   "metadata": {},
   "outputs": [],
   "source": [
    "v2 = np.round(255*(v-dc.min_)/(dc.max_-dc.min_)).astype(np.uint8)\n"
   ]
  },
  {
   "cell_type": "code",
   "execution_count": 0,
   "metadata": {},
   "outputs": [],
   "source": [
    "(dc.bytes_to_vec(dc.ngrams[',']) - v).sum()"
   ]
  },
  {
   "cell_type": "code",
   "execution_count": 0,
   "metadata": {},
   "outputs": [],
   "source": [
    "dc.max_, v.max()"
   ]
  },
  {
   "cell_type": "code",
   "execution_count": 0,
   "metadata": {},
   "outputs": [],
   "source": [
    "dc.ngrams"
   ]
  },
  {
   "cell_type": "code",
   "execution_count": 0,
   "metadata": {},
   "outputs": [],
   "source": [
    "dc.info()"
   ]
  }
 ],
 "metadata": {
  "kernelspec": {
   "display_name": "Python 3",
   "language": "python",
   "name": "python3"
  },
  "language_info": {
   "codemirror_mode": {
    "name": "ipython",
    "version": 3
   },
   "file_extension": ".py",
   "mimetype": "text/x-python",
   "name": "python",
   "nbconvert_exporter": "python",
   "pygments_lexer": "ipython3",
   "version": "3.5.2-final"
  }
 },
 "nbformat": 4,
 "nbformat_minor": 2
}