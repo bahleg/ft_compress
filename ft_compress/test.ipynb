{
 "cells": [
  {
   "cell_type": "code",
   "execution_count": 1,
   "metadata": {},
   "outputs": [],
   "source": [
    "import fasttext\n",
    "import numpy as np\n",
    "import sys\n",
    "sys.path.append('..')"
   ]
  },
  {
   "cell_type": "code",
   "execution_count": 2,
   "metadata": {},
   "outputs": [
    {
     "name": "stderr",
     "output_type": "stream",
     "text": "[2020-01-12 14:55:58,091] [DEBUG] - hello\n"
    }
   ],
   "source": [
    "import logging\n",
    "log_format = '[%(asctime)s] [%(levelname)s] - %(message)s'\n",
    "logging.basicConfig(level=logging.DEBUG, format=log_format)\n",
    "log = logging.getLogger(__name__)\n",
    "\n",
    "# writing to stdout\n",
    "handler = logging.StreamHandler(sys.stdout)\n",
    "handler.setLevel(logging.DEBUG)\n",
    "handler.setFormatter(log_format)\n",
    "log.addHandler(handler)\n",
    "logging.debug('hello')"
   ]
  },
  {
   "cell_type": "code",
   "execution_count": 3,
   "metadata": {},
   "outputs": [
    {
     "name": "stderr",
     "output_type": "stream",
     "text": "\n"
    }
   ],
   "source": [
    "model = fasttext.load_model('/home/legin/fasttext/wiki.en.bin')"
   ]
  },
  {
   "cell_type": "code",
   "execution_count": 4,
   "metadata": {},
   "outputs": [
    {
     "data": {
      "text/plain": "['<In',\n '<Inc',\n '<Inco',\n '<Incom',\n 'Inc',\n 'Inco',\n 'Incom',\n 'Incomp',\n 'nco',\n 'ncom',\n 'ncomp',\n 'ncompr',\n 'com',\n 'comp',\n 'compr',\n 'compre',\n 'omp',\n 'ompr',\n 'ompre',\n 'ompreh',\n 'mpr',\n 'mpre',\n 'mpreh',\n 'mprehe',\n 'pre',\n 'preh',\n 'prehe',\n 'prehen',\n 'reh',\n 'rehe',\n 'rehen',\n 'rehens',\n 'ehe',\n 'ehen',\n 'ehens',\n 'ehensi',\n 'hen',\n 'hens',\n 'hensi',\n 'hensib',\n 'ens',\n 'ensi',\n 'ensib',\n 'ensibi',\n 'nsi',\n 'nsib',\n 'nsibi',\n 'nsibil',\n 'sib',\n 'sibi',\n 'sibil',\n 'sibili',\n 'ibi',\n 'ibil',\n 'ibili',\n 'ibilit',\n 'bil',\n 'bili',\n 'bilit',\n 'biliti',\n 'ili',\n 'ilit',\n 'iliti',\n 'ilitie',\n 'lit',\n 'liti',\n 'litie',\n 'lities',\n 'iti',\n 'itie',\n 'ities',\n 'ities>',\n 'tie',\n 'ties',\n 'ties>',\n 'ies',\n 'ies>',\n 'es>']"
     },
     "execution_count": 4,
     "metadata": {},
     "output_type": "execute_result"
    }
   ],
   "source": [
    "model.get_subwords('Incomprehensibilities')[0]\n"
   ]
  },
  {
   "cell_type": "code",
   "execution_count": 4,
   "metadata": {},
   "outputs": [
    {
     "data": {
      "text/plain": "<module 'compressors.dumb' from '/home/legin/ft_compress/ft_compress/compressors/dumb.py'>"
     },
     "execution_count": 4,
     "metadata": {},
     "output_type": "execute_result"
    }
   ],
   "source": [
    "import compressors.dumb as d \n",
    "import storages.dict_based as db \n",
    "from importlib import reload\n",
    "reload(d)"
   ]
  },
  {
   "cell_type": "code",
   "execution_count": 5,
   "metadata": {},
   "outputs": [],
   "source": [
    "dc = d.DumbCompressor(db.DictStorage()) #~50% percents"
   ]
  },
  {
   "cell_type": "code",
   "execution_count": 6,
   "metadata": {},
   "outputs": [
    {
     "name": "stderr",
     "output_type": "stream",
     "text": "[2020-01-12 14:56:42,317] [DEBUG] - loading words\n[2020-01-12 14:56:43,242] [WARNING] - Too many ngrams, breaking\n[2020-01-12 14:56:43,242] [DEBUG] - filling matrix\n[2020-01-12 14:56:44,866] [DEBUG] - ready\n"
    }
   ],
   "source": [
    "dc.fit(model, 250000)"
   ]
  },
  {
   "cell_type": "code",
   "execution_count": 7,
   "metadata": {},
   "outputs": [
    {
     "ename": "AttributeError",
     "evalue": "'fasttext_pybind.fasttext' object has no attribute 'words_'",
     "output_type": "error",
     "traceback": [
      "\u001b[0;31m---------------------------------------------------------------------------\u001b[0m",
      "\u001b[0;31mAttributeError\u001b[0m                            Traceback (most recent call last)",
      "\u001b[0;32m<ipython-input-7-3928b3b1c290>\u001b[0m in \u001b[0;36m<module>\u001b[0;34m\u001b[0m\n\u001b[0;32m----> 1\u001b[0;31m \u001b[0mmodel\u001b[0m\u001b[0;34m.\u001b[0m\u001b[0mf\u001b[0m\u001b[0;34m.\u001b[0m\u001b[0mwords_\u001b[0m\u001b[0;34m[\u001b[0m\u001b[0;36m0\u001b[0m\u001b[0;34m]\u001b[0m\u001b[0;34m\u001b[0m\u001b[0m\n\u001b[0m",
      "\u001b[0;31mAttributeError\u001b[0m: 'fasttext_pybind.fasttext' object has no attribute 'words_'"
     ]
    }
   ],
   "source": [
    "model.f.words_[0]"
   ]
  },
  {
   "cell_type": "code",
   "execution_count": 10,
   "metadata": {},
   "outputs": [
    {
     "data": {
      "text/plain": "array([-7.32691646e-01,  5.33774376e-01, -7.70062730e-02,  8.53045225e-01,\n       -7.47079372e-01, -8.05325389e-01, -2.30655640e-01,  3.09775591e-01,\n       -2.35790703e-02, -7.53619492e-01,  5.53619027e-01,  2.13648736e-01,\n       -5.57266414e-01, -3.66888940e-01, -7.85726905e-02,  5.37622213e-01,\n        6.61130965e-01,  9.18991864e-01, -1.30522847e-01, -3.33665609e-01,\n       -7.92670608e-01, -6.77212536e-01,  3.39730084e-03, -1.98316693e-01,\n       -9.35011506e-02, -1.79771483e-02, -8.77652317e-02, -3.78996551e-01,\n       -6.02619290e-01, -7.22804844e-01, -1.68210626e-01,  1.36574030e+00,\n        4.53200758e-01, -1.26439288e-01, -2.34340847e-01, -8.79331708e-01,\n        6.80477977e-01,  2.88586140e-01,  7.22331882e-01, -5.08366048e-01,\n       -7.74909928e-02, -6.21520281e-01,  2.43895441e-01,  3.22378486e-01,\n        7.33153343e-01,  9.75299358e-01,  1.08555377e+00,  6.44227505e-01,\n        5.49842536e-01,  6.42229468e-02, -2.77797848e-01,  1.34377867e-01,\n       -4.85114992e-01, -1.39105701e+00, -1.53266120e+00,  1.71044841e-02,\n       -2.48351604e-01, -1.86795145e-01, -4.13280249e-01,  4.21705276e-01,\n       -3.88382673e-01,  2.43408114e-01, -7.71499872e-01, -8.04803967e-01,\n        1.09697652e+00, -8.10204506e-01, -8.83551598e-01,  2.89895564e-01,\n       -6.49704695e-01,  1.56597812e-02,  1.31282017e-01,  3.42085183e-01,\n        1.14220524e+00, -9.93534684e-01, -1.73266554e+00,  1.95468545e-01,\n        1.64685702e+00,  1.32899761e+00,  6.72480702e-01,  6.14619404e-02,\n        1.28747547e+00, -1.39042199e-01, -1.01886213e+00, -2.31933743e-01,\n       -8.23223352e-01,  3.89076948e-01, -8.89576524e-02,  1.74563646e+00,\n        2.40358770e-01,  1.98123574e-01, -1.12447405e+00, -5.49767613e-01,\n        7.34343708e-01, -1.45518720e+00,  9.95652080e-01, -3.13310653e-01,\n        9.70037222e-01, -2.01321766e-01,  1.40560016e-01, -2.85274625e-01,\n        9.29342210e-02, -7.60491133e-01,  4.32555139e-01, -6.18447699e-02,\n        5.87059379e-01, -8.73760819e-01,  1.37541443e-01,  6.42723680e-01,\n       -1.10638797e+00, -6.30585402e-02,  1.05596912e+00, -8.45613003e-01,\n       -1.27325845e+00,  7.34202385e-01,  1.20585585e+00, -1.12131679e+00,\n        9.25883055e-01,  3.22308183e-01,  4.31940526e-01,  1.17436814e+00,\n        1.39641857e+00, -2.57951245e-02, -1.07006478e+00,  2.47551396e-01,\n        9.06647444e-01,  7.73800731e-01,  1.75744593e-01,  7.14336395e-01,\n       -3.30788195e-01,  1.20304132e+00, -1.57057017e-01, -7.37219810e-01,\n       -1.94555140e+00,  2.29354590e-01, -1.94260612e-01, -6.47293627e-02,\n       -1.09199905e+00,  5.31034350e-01, -7.42469549e-01,  2.25545913e-01,\n        6.05088398e-02,  8.65150809e-01,  1.79606473e+00,  1.19295502e+00,\n       -1.54884905e-01,  5.47812223e-01, -1.61331558e+00, -5.52410364e-01,\n        3.81313622e-01,  1.10290027e+00,  4.95921701e-01, -2.43573487e-02,\n       -1.01692474e+00, -4.98217642e-01,  6.08602911e-02, -5.08397937e-01,\n        4.99646306e-01, -9.05607268e-02, -1.32347777e-01, -9.58780169e-01,\n       -2.09726334e-01,  1.24886125e-01,  5.78164637e-01, -1.95152640e-01,\n       -6.84438348e-01, -2.74559975e-01, -5.84885031e-02, -1.24734437e+00,\n        3.79990041e-02,  6.24591783e-02, -8.94218683e-04, -2.68646598e-01,\n       -3.78976941e-01,  6.83183551e-01,  1.04366705e-01,  8.85877550e-01,\n        3.13582838e-01,  5.65607011e-01,  4.00165051e-01, -9.48403835e-01,\n        7.19008803e-01, -1.20243192e+00,  1.03333664e+00, -5.07230639e-01,\n       -4.13670123e-01, -3.95083040e-01,  1.98500782e-01,  1.22172308e+00,\n        1.53040266e+00,  1.19811736e-01,  6.11532152e-01, -1.27739477e+00,\n        1.94038498e+00,  4.73351508e-01, -2.71942019e-01, -5.68599626e-02,\n       -4.40998942e-01, -2.02868283e-01, -1.57530701e+00, -3.07461262e-01,\n        7.39416957e-01, -7.26218939e-01,  1.17522812e+00,  5.11271834e-01,\n       -3.49311233e-01, -4.85313356e-01, -5.81624269e-01,  1.62411094e-01,\n        3.20381880e-01,  1.50433075e+00,  1.40230584e+00,  6.13292992e-01,\n        1.60811055e+00,  6.11618757e-01,  7.15732694e-01,  6.73681259e-01,\n       -9.64824080e-01, -3.28309327e-01, -8.47139955e-03, -1.49504319e-01,\n       -1.30620170e+00, -1.64434463e-01,  1.02673173e+00,  9.34919596e-01,\n       -5.63414246e-02,  4.89904940e-01,  2.37847626e-01,  3.80729795e-01,\n        5.19460261e-01, -6.04490042e-01, -1.46621132e+00, -3.27754259e-01,\n        1.18374012e-01,  8.44197124e-02,  7.35130429e-01,  1.51135588e+00,\n        5.98439991e-01, -1.73707649e-01, -1.16256928e+00,  1.07649714e-02,\n       -2.63537109e-01, -1.26186776e+00,  7.39595830e-01,  7.21768260e-01,\n       -1.34829068e+00,  3.92289817e-01, -6.90052152e-01, -3.42013299e-01,\n       -3.08810532e-01, -1.61220074e+00,  1.11302212e-01, -9.50372875e-01,\n       -4.70545530e-01,  2.84549952e-01,  1.46277571e+00,  5.77383220e-01,\n       -3.53805721e-01, -3.30481648e-01, -1.29510328e-01, -1.76756546e-01,\n       -3.01035464e-01,  8.65535498e-01, -6.11131638e-03, -2.51278847e-01,\n       -1.32996202e+00, -2.89711332e+00, -2.87810683e-01, -3.24654490e-01,\n        3.30539763e-01,  9.81243849e-02, -1.35747027e+00, -1.29866868e-01,\n       -1.31197423e-01,  7.54943073e-01, -7.39580035e-01, -4.95854557e-01,\n        1.89426035e-01,  9.65050459e-01, -2.65764326e-01, -6.40645504e-01,\n        2.67573863e-01,  1.96381763e-01, -4.32219915e-02, -7.25704670e-01,\n        6.51495457e-01, -5.11007249e-01, -4.25355434e-01, -1.15398502e+00,\n        2.41947845e-01,  1.16472781e-01,  1.89578347e-02, -4.57077295e-01,\n       -1.35849304e-02,  2.90344477e-01, -1.24282730e+00,  6.22011542e-01,\n       -7.54978180e-01,  7.31912851e-01,  4.93103206e-01,  1.21518445e+00],\n      dtype=float32)"
     },
     "execution_count": 10,
     "metadata": {},
     "output_type": "execute_result"
    }
   ],
   "source": [
    "dc[','] - model[',']"
   ]
  },
  {
   "cell_type": "code",
   "execution_count": 9,
   "metadata": {},
   "outputs": [
    {
     "data": {
      "text/plain": "<module 'compressors.compressor8' from '/home/legin/ft_compress/ft_compress/compressors/compressor8.py'>"
     },
     "execution_count": 9,
     "metadata": {},
     "output_type": "execute_result"
    }
   ],
   "source": [
    "import compressors.compressor8 as d \n",
    "from importlib import reload\n",
    "reload(d)"
   ]
  },
  {
   "cell_type": "code",
   "execution_count": 10,
   "metadata": {},
   "outputs": [
    {
     "name": "stderr",
     "output_type": "stream",
     "text": "[2020-01-12 14:35:37,861] [DEBUG] - Loading words\n[2020-01-12 14:35:48,702] [WARNING] - Too many ngrams, breaking\n[2020-01-12 14:35:48,702] [WARNING] - Too many ngrams, breaking\n[2020-01-12 14:35:48,702] [DEBUG] - Estimating parameters\n[2020-01-12 14:36:15,707] [DEBUG] - filling matrix\n"
    },
    {
     "ename": "KeyboardInterrupt",
     "evalue": "",
     "output_type": "error",
     "traceback": [
      "\u001b[0;31m---------------------------------------------------------------------------\u001b[0m",
      "\u001b[0;31mKeyboardInterrupt\u001b[0m                         Traceback (most recent call last)",
      "\u001b[0;32m<ipython-input-10-a6f7f8d74045>\u001b[0m in \u001b[0;36m<module>\u001b[0;34m\u001b[0m\n\u001b[0;32m----> 1\u001b[0;31m \u001b[0mdc\u001b[0m \u001b[0;34m=\u001b[0m \u001b[0md\u001b[0m\u001b[0;34m.\u001b[0m\u001b[0mCompressor8bit\u001b[0m\u001b[0;34m(\u001b[0m\u001b[0mmodel\u001b[0m\u001b[0;34m,\u001b[0m \u001b[0;36m2500000\u001b[0m\u001b[0;34m)\u001b[0m \u001b[0;31m#~50% percents\u001b[0m\u001b[0;34m\u001b[0m\u001b[0m\n\u001b[0m",
      "\u001b[0;32m~/ft_compress/ft_compress/compressors/compressor8.py\u001b[0m in \u001b[0;36m__init__\u001b[0;34m(self, ft_model, maxsize)\u001b[0m\n\u001b[1;32m     30\u001b[0m         \u001b[0;32mfor\u001b[0m \u001b[0mnew_id\u001b[0m\u001b[0;34m,\u001b[0m\u001b[0mn\u001b[0m \u001b[0;32min\u001b[0m \u001b[0menumerate\u001b[0m\u001b[0;34m(\u001b[0m\u001b[0mself\u001b[0m\u001b[0;34m.\u001b[0m\u001b[0mngrams\u001b[0m\u001b[0;34m)\u001b[0m\u001b[0;34m:\u001b[0m\u001b[0;34m\u001b[0m\u001b[0m\n\u001b[1;32m     31\u001b[0m             \u001b[0mold_id\u001b[0m \u001b[0;34m=\u001b[0m \u001b[0mself\u001b[0m\u001b[0;34m.\u001b[0m\u001b[0mngrams\u001b[0m\u001b[0;34m[\u001b[0m\u001b[0mn\u001b[0m\u001b[0;34m]\u001b[0m\u001b[0;34m\u001b[0m\u001b[0m\n\u001b[0;32m---> 32\u001b[0;31m             \u001b[0mself\u001b[0m\u001b[0;34m.\u001b[0m\u001b[0mngrams\u001b[0m\u001b[0;34m[\u001b[0m\u001b[0mn\u001b[0m\u001b[0;34m]\u001b[0m \u001b[0;34m=\u001b[0m \u001b[0mself\u001b[0m\u001b[0;34m.\u001b[0m\u001b[0mvector_to_bytes\u001b[0m\u001b[0;34m(\u001b[0m\u001b[0mft_model\u001b[0m\u001b[0;34m.\u001b[0m\u001b[0mget_input_vector\u001b[0m\u001b[0;34m(\u001b[0m\u001b[0mold_id\u001b[0m\u001b[0;34m)\u001b[0m\u001b[0;34m)\u001b[0m\u001b[0;34m\u001b[0m\u001b[0m\n\u001b[0m\u001b[1;32m     33\u001b[0m         \u001b[0mlogging\u001b[0m\u001b[0;34m.\u001b[0m\u001b[0mdebug\u001b[0m\u001b[0;34m(\u001b[0m\u001b[0;34m'ready'\u001b[0m\u001b[0;34m)\u001b[0m\u001b[0;34m\u001b[0m\u001b[0m\n\u001b[1;32m     34\u001b[0m         \u001b[0mself\u001b[0m\u001b[0;34m.\u001b[0m\u001b[0mbyte_size\u001b[0m \u001b[0;34m=\u001b[0m \u001b[0mlen\u001b[0m\u001b[0;34m(\u001b[0m\u001b[0mself\u001b[0m\u001b[0;34m.\u001b[0m\u001b[0mngrams\u001b[0m\u001b[0;34m[\u001b[0m\u001b[0mn\u001b[0m\u001b[0;34m]\u001b[0m\u001b[0;34m)\u001b[0m\u001b[0;34m\u001b[0m\u001b[0m\n",
      "\u001b[0;32m/usr/local/lib/python3.5/dist-packages/fasttext/FastText.py\u001b[0m in \u001b[0;36mget_input_vector\u001b[0;34m(self, ind)\u001b[0m\n\u001b[1;32m    112\u001b[0m         \u001b[0mb\u001b[0m \u001b[0;34m=\u001b[0m \u001b[0mfasttext\u001b[0m\u001b[0;34m.\u001b[0m\u001b[0mVector\u001b[0m\u001b[0;34m(\u001b[0m\u001b[0mdim\u001b[0m\u001b[0;34m)\u001b[0m\u001b[0;34m\u001b[0m\u001b[0m\n\u001b[1;32m    113\u001b[0m         \u001b[0mself\u001b[0m\u001b[0;34m.\u001b[0m\u001b[0mf\u001b[0m\u001b[0;34m.\u001b[0m\u001b[0mgetInputVector\u001b[0m\u001b[0;34m(\u001b[0m\u001b[0mb\u001b[0m\u001b[0;34m,\u001b[0m \u001b[0mind\u001b[0m\u001b[0;34m)\u001b[0m\u001b[0;34m\u001b[0m\u001b[0m\n\u001b[0;32m--> 114\u001b[0;31m         \u001b[0;32mreturn\u001b[0m \u001b[0mnp\u001b[0m\u001b[0;34m.\u001b[0m\u001b[0marray\u001b[0m\u001b[0;34m(\u001b[0m\u001b[0mb\u001b[0m\u001b[0;34m)\u001b[0m\u001b[0;34m\u001b[0m\u001b[0m\n\u001b[0m\u001b[1;32m    115\u001b[0m \u001b[0;34m\u001b[0m\u001b[0m\n\u001b[1;32m    116\u001b[0m     \u001b[0;32mdef\u001b[0m \u001b[0mpredict\u001b[0m\u001b[0;34m(\u001b[0m\u001b[0mself\u001b[0m\u001b[0;34m,\u001b[0m \u001b[0mtext\u001b[0m\u001b[0;34m,\u001b[0m \u001b[0mk\u001b[0m\u001b[0;34m=\u001b[0m\u001b[0;36m1\u001b[0m\u001b[0;34m,\u001b[0m \u001b[0mthreshold\u001b[0m\u001b[0;34m=\u001b[0m\u001b[0;36m0.0\u001b[0m\u001b[0;34m,\u001b[0m \u001b[0mon_unicode_error\u001b[0m\u001b[0;34m=\u001b[0m\u001b[0;34m'strict'\u001b[0m\u001b[0;34m)\u001b[0m\u001b[0;34m:\u001b[0m\u001b[0;34m\u001b[0m\u001b[0m\n",
      "\u001b[0;31mKeyboardInterrupt\u001b[0m: "
     ]
    }
   ],
   "source": [
    "dc = d.Compressor8bit(model, 2500000) #~50% percents"
   ]
  },
  {
   "cell_type": "code",
   "execution_count": 23,
   "metadata": {},
   "outputs": [
    {
     "data": {
      "text/plain": "['<ba',\n '<ban',\n '<bana',\n '<banan',\n 'ban',\n 'bana',\n 'banan',\n 'banana',\n 'ana',\n 'anan',\n 'anana',\n 'ananan',\n 'nan',\n 'nana',\n 'nanan',\n 'nanana',\n 'ana',\n 'anan',\n 'anana',\n 'ananan',\n 'nan',\n 'nana',\n 'nanan',\n 'nanana',\n 'ana',\n 'anan',\n 'anana',\n 'ananan',\n 'nan',\n 'nana',\n 'nanan',\n 'nanana',\n 'ana',\n 'anan',\n 'anana',\n 'anana>',\n 'nan',\n 'nana',\n 'nana>',\n 'ana',\n 'ana>',\n 'na>']"
     },
     "execution_count": 23,
     "metadata": {},
     "output_type": "execute_result"
    }
   ],
   "source": [
    "model.get_subwords('bananananana')[0]"
   ]
  },
  {
   "cell_type": "code",
   "execution_count": 0,
   "metadata": {},
   "outputs": [],
   "source": [
    "v = model.get_input_vector(0)"
   ]
  },
  {
   "cell_type": "code",
   "execution_count": 0,
   "metadata": {},
   "outputs": [],
   "source": [
    "v2 = np.round(255*(v-dc.min_)/(dc.max_-dc.min_)).astype(np.uint8)\n"
   ]
  },
  {
   "cell_type": "code",
   "execution_count": 0,
   "metadata": {},
   "outputs": [],
   "source": [
    "(dc.bytes_to_vec(dc.ngrams[',']) - v).sum()"
   ]
  },
  {
   "cell_type": "code",
   "execution_count": 0,
   "metadata": {},
   "outputs": [],
   "source": [
    "dc.max_, v.max()"
   ]
  },
  {
   "cell_type": "code",
   "execution_count": 0,
   "metadata": {},
   "outputs": [],
   "source": [
    "dc.ngrams"
   ]
  },
  {
   "cell_type": "code",
   "execution_count": 0,
   "metadata": {},
   "outputs": [],
   "source": [
    "dc.info()"
   ]
  }
 ],
 "metadata": {
  "kernelspec": {
   "display_name": "Python 3",
   "language": "python",
   "name": "python3"
  },
  "language_info": {
   "codemirror_mode": {
    "name": "ipython",
    "version": 3
   },
   "file_extension": ".py",
   "mimetype": "text/x-python",
   "name": "python",
   "nbconvert_exporter": "python",
   "pygments_lexer": "ipython3",
   "version": "3.5.2-final"
  }
 },
 "nbformat": 4,
 "nbformat_minor": 2
}