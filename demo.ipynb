{
 "cells": [
  {
   "cell_type": "code",
   "execution_count": 1,
   "metadata": {},
   "outputs": [],
   "source": [
    "import fasttext\n",
    "import numpy as np\n",
    "import sys\n",
    "import matplotlib.pylab as plt\n",
    "%matplotlib inline\n",
    "sys.path.append('..')"
   ]
  },
  {
   "cell_type": "code",
   "execution_count": 2,
   "metadata": {},
   "outputs": [
    {
     "name": "stderr",
     "output_type": "stream",
     "text": [
      "[2020-01-31 23:11:43,571] [DEBUG] - test logging message\n"
     ]
    }
   ],
   "source": [
    "import logging\n",
    "log_format = '[%(asctime)s] [%(levelname)s] - %(message)s'\n",
    "logging.basicConfig(level=logging.DEBUG, format=log_format)\n",
    "log = logging.getLogger(__name__)\n",
    "\n",
    "# writing to stdout\n",
    "handler = logging.StreamHandler(sys.stdout)\n",
    "handler.setLevel(logging.DEBUG)\n",
    "handler.setFormatter(log_format)\n",
    "log.addHandler(handler)\n",
    "logging.debug('test logging message')"
   ]
  },
  {
   "cell_type": "code",
   "execution_count": 3,
   "metadata": {},
   "outputs": [
    {
     "name": "stderr",
     "output_type": "stream",
     "text": [
      "Warning : `load_model` does not return WordVectorModel or SupervisedModel any more, but a `FastText` object which is very similar.\n"
     ]
    }
   ],
   "source": [
    "model = fasttext.load_model('/home/legin/fasttext/wiki.en.bin')\n",
    "#model = fasttext.load_model('../test_lenin/lenin.bin')"
   ]
  },
  {
   "cell_type": "code",
   "execution_count": null,
   "metadata": {},
   "outputs": [],
   "source": []
  },
  {
   "cell_type": "code",
   "execution_count": null,
   "metadata": {},
   "outputs": [],
   "source": []
  },
  {
   "cell_type": "code",
   "execution_count": 4,
   "metadata": {},
   "outputs": [],
   "source": [
    "import compressors.dumb  as dumb \n",
    "#import compressors.compressor8 as d \n",
    "import storages.shelve_based as db\n",
    "#from importlib import reload\n",
    "#reload(d)"
   ]
  },
  {
   "cell_type": "code",
   "execution_count": 5,
   "metadata": {},
   "outputs": [],
   "source": [
    "rs = np.random.RandomState(42)\n",
    "all_words = sorted(model.words)\n",
    "words_subset = [all_words[i] for i in rs.choice(len(all_words), 10000, replace=False)]"
   ]
  },
  {
   "cell_type": "code",
   "execution_count": 6,
   "metadata": {},
   "outputs": [
    {
     "data": {
      "text/plain": [
       "['dorstener',\n",
       " 'troieshchyna',\n",
       " '科擧',\n",
       " 'workprints',\n",
       " 'haiyue',\n",
       " 'doxbridge',\n",
       " 'rashleighs',\n",
       " 'shankho',\n",
       " 'talegalli',\n",
       " 'bigsoccer',\n",
       " 'dipolarophile',\n",
       " 'sulaymān',\n",
       " 'pseudoaneurysms',\n",
       " 'juramento',\n",
       " 'olivelawn',\n",
       " 'farbenfinsternis',\n",
       " 'коррупции',\n",
       " 'robigoog',\n",
       " 'shipping/receiving',\n",
       " 'seolwon',\n",
       " 'uclu',\n",
       " 'novatt',\n",
       " 'taote',\n",
       " 'spygate',\n",
       " 'jtmoon',\n",
       " 'sunwatch',\n",
       " 'ialmenus',\n",
       " 'ansariya',\n",
       " 'kaikorai',\n",
       " 'kolkáreň',\n",
       " 'amygdalia',\n",
       " 'abdulghafoor',\n",
       " 'gandzasar',\n",
       " 'obamas',\n",
       " 'expertone',\n",
       " 'ardeirhynchus',\n",
       " 'mladena',\n",
       " 'egerszóláti',\n",
       " '/faqs',\n",
       " 'patienter',\n",
       " 'monsterjam',\n",
       " 'tomko',\n",
       " 'gaztransport',\n",
       " 'oakfurnitureonline',\n",
       " 'dunglison',\n",
       " 'dreams',\n",
       " 'yatasi',\n",
       " 'lipoedema',\n",
       " 'argyrotype',\n",
       " 'schenker/klaus',\n",
       " 'drachman',\n",
       " 'ncso',\n",
       " '/split',\n",
       " 'eukelade',\n",
       " 'premierships',\n",
       " 'gazikentspor',\n",
       " 'rocanrol',\n",
       " 'heinämaa',\n",
       " 'hemvägen',\n",
       " 'detering',\n",
       " 'scirpus',\n",
       " 'gunzbourg',\n",
       " 'reftype',\n",
       " 'leevicious',\n",
       " 'playpack',\n",
       " 'mahtāb',\n",
       " 'reli',\n",
       " 'pogovorim',\n",
       " 'tympanohyal',\n",
       " 'creation/elsa',\n",
       " 'détaché',\n",
       " 'dramaworld',\n",
       " 'avgg',\n",
       " 'mentalic',\n",
       " 'creissan',\n",
       " 'adameit',\n",
       " 'kiewsen',\n",
       " 'kaznia',\n",
       " 'suedo',\n",
       " 'aslesha',\n",
       " 'lafore',\n",
       " 'hollerich',\n",
       " 'bridis',\n",
       " 'sepulka',\n",
       " 'com/mint',\n",
       " 'cutleaf',\n",
       " 'o͘',\n",
       " 'plattkó',\n",
       " 'lujuria',\n",
       " 'permant',\n",
       " 'wörther',\n",
       " 'tephronia',\n",
       " 'px^',\n",
       " 'adalaria',\n",
       " 'torjan',\n",
       " 'ax^',\n",
       " 'eugenios',\n",
       " 'nationalguard',\n",
       " 'vuccà',\n",
       " 'sommermelodie']"
      ]
     },
     "execution_count": 6,
     "metadata": {},
     "output_type": "execute_result"
    }
   ],
   "source": [
    "words_subset[:100]"
   ]
  },
  {
   "cell_type": "code",
   "execution_count": 6,
   "metadata": {},
   "outputs": [],
   "source": [
    "from scipy.spatial.distance import cosine \n",
    "def eval_model():\n",
    "    cos = []\n",
    "    eucl = []\n",
    "    for w in words_subset:\n",
    "        #print (w)\n",
    "        v1 = model[w]\n",
    "        v2 = dc[w]\n",
    "        c = cosine(v1,v2)\n",
    "        e = np.linalg.norm(v1-v2)\n",
    "        cos.append(c)\n",
    "        eucl.append(e)\n",
    "    return cos, eucl \n"
   ]
  },
  {
   "cell_type": "code",
   "execution_count": 7,
   "metadata": {},
   "outputs": [
    {
     "name": "stdout",
     "output_type": "stream",
     "text": [
      "Help on module pickle:\n",
      "\n",
      "NAME\n",
      "    pickle - Create portable serialized representations of Python objects.\n",
      "\n",
      "MODULE REFERENCE\n",
      "    https://docs.python.org/3.5/library/pickle.html\n",
      "    \n",
      "    The following documentation is automatically generated from the Python\n",
      "    source files.  It may be incomplete, incorrect or include features that\n",
      "    are considered implementation detail and may vary between Python\n",
      "    implementations.  When in doubt, consult the module reference at the\n",
      "    location listed above.\n",
      "\n",
      "DESCRIPTION\n",
      "    See module copyreg for a mechanism for registering custom picklers.\n",
      "    See module pickletools source for extensive comments.\n",
      "    \n",
      "    Classes:\n",
      "    \n",
      "        Pickler\n",
      "        Unpickler\n",
      "    \n",
      "    Functions:\n",
      "    \n",
      "        dump(object, file)\n",
      "        dumps(object) -> string\n",
      "        load(file) -> object\n",
      "        loads(string) -> object\n",
      "    \n",
      "    Misc variables:\n",
      "    \n",
      "        __version__\n",
      "        format_version\n",
      "        compatible_formats\n",
      "\n",
      "CLASSES\n",
      "    builtins.Exception(builtins.BaseException)\n",
      "        _pickle.PickleError\n",
      "            _pickle.PicklingError\n",
      "            _pickle.UnpicklingError\n",
      "    builtins.object\n",
      "        _pickle.Pickler\n",
      "        _pickle.Unpickler\n",
      "    \n",
      "    class PickleError(builtins.Exception)\n",
      "     |  Common base class for all non-exit exceptions.\n",
      "     |  \n",
      "     |  Method resolution order:\n",
      "     |      PickleError\n",
      "     |      builtins.Exception\n",
      "     |      builtins.BaseException\n",
      "     |      builtins.object\n",
      "     |  \n",
      "     |  Data descriptors defined here:\n",
      "     |  \n",
      "     |  __weakref__\n",
      "     |      list of weak references to the object (if defined)\n",
      "     |  \n",
      "     |  ----------------------------------------------------------------------\n",
      "     |  Methods inherited from builtins.Exception:\n",
      "     |  \n",
      "     |  __init__(self, /, *args, **kwargs)\n",
      "     |      Initialize self.  See help(type(self)) for accurate signature.\n",
      "     |  \n",
      "     |  __new__(*args, **kwargs) from builtins.type\n",
      "     |      Create and return a new object.  See help(type) for accurate signature.\n",
      "     |  \n",
      "     |  ----------------------------------------------------------------------\n",
      "     |  Methods inherited from builtins.BaseException:\n",
      "     |  \n",
      "     |  __delattr__(self, name, /)\n",
      "     |      Implement delattr(self, name).\n",
      "     |  \n",
      "     |  __getattribute__(self, name, /)\n",
      "     |      Return getattr(self, name).\n",
      "     |  \n",
      "     |  __reduce__(...)\n",
      "     |      helper for pickle\n",
      "     |  \n",
      "     |  __repr__(self, /)\n",
      "     |      Return repr(self).\n",
      "     |  \n",
      "     |  __setattr__(self, name, value, /)\n",
      "     |      Implement setattr(self, name, value).\n",
      "     |  \n",
      "     |  __setstate__(...)\n",
      "     |  \n",
      "     |  __str__(self, /)\n",
      "     |      Return str(self).\n",
      "     |  \n",
      "     |  with_traceback(...)\n",
      "     |      Exception.with_traceback(tb) --\n",
      "     |      set self.__traceback__ to tb and return self.\n",
      "     |  \n",
      "     |  ----------------------------------------------------------------------\n",
      "     |  Data descriptors inherited from builtins.BaseException:\n",
      "     |  \n",
      "     |  __cause__\n",
      "     |      exception cause\n",
      "     |  \n",
      "     |  __context__\n",
      "     |      exception context\n",
      "     |  \n",
      "     |  __dict__\n",
      "     |  \n",
      "     |  __suppress_context__\n",
      "     |  \n",
      "     |  __traceback__\n",
      "     |  \n",
      "     |  args\n",
      "    \n",
      "    class Pickler(builtins.object)\n",
      "     |  This takes a binary file for writing a pickle data stream.\n",
      "     |  \n",
      "     |  The optional *protocol* argument tells the pickler to use the given\n",
      "     |  protocol; supported protocols are 0, 1, 2, 3 and 4.  The default\n",
      "     |  protocol is 3; a backward-incompatible protocol designed for Python 3.\n",
      "     |  \n",
      "     |  Specifying a negative protocol version selects the highest protocol\n",
      "     |  version supported.  The higher the protocol used, the more recent the\n",
      "     |  version of Python needed to read the pickle produced.\n",
      "     |  \n",
      "     |  The *file* argument must have a write() method that accepts a single\n",
      "     |  bytes argument. It can thus be a file object opened for binary\n",
      "     |  writing, an io.BytesIO instance, or any other custom object that meets\n",
      "     |  this interface.\n",
      "     |  \n",
      "     |  If *fix_imports* is True and protocol is less than 3, pickle will try\n",
      "     |  to map the new Python 3 names to the old module names used in Python\n",
      "     |  2, so that the pickle data stream is readable with Python 2.\n",
      "     |  \n",
      "     |  Methods defined here:\n",
      "     |  \n",
      "     |  __init__(self, /, *args, **kwargs)\n",
      "     |      Initialize self.  See help(type(self)) for accurate signature.\n",
      "     |  \n",
      "     |  __new__(*args, **kwargs) from builtins.type\n",
      "     |      Create and return a new object.  See help(type) for accurate signature.\n",
      "     |  \n",
      "     |  __sizeof__(self, /)\n",
      "     |      Returns size in memory, in bytes.\n",
      "     |  \n",
      "     |  clear_memo(self, /)\n",
      "     |      Clears the pickler's \"memo\".\n",
      "     |      \n",
      "     |      The memo is the data structure that remembers which objects the\n",
      "     |      pickler has already seen, so that shared or recursive objects are\n",
      "     |      pickled by reference and not by value.  This method is useful when\n",
      "     |      re-using picklers.\n",
      "     |  \n",
      "     |  dump(self, obj, /)\n",
      "     |      Write a pickled representation of the given object to the open file.\n",
      "     |  \n",
      "     |  ----------------------------------------------------------------------\n",
      "     |  Data descriptors defined here:\n",
      "     |  \n",
      "     |  bin\n",
      "     |  \n",
      "     |  dispatch_table\n",
      "     |  \n",
      "     |  fast\n",
      "     |  \n",
      "     |  memo\n",
      "     |  \n",
      "     |  persistent_id\n",
      "    \n",
      "    class PicklingError(PickleError)\n",
      "     |  Common base class for all non-exit exceptions.\n",
      "     |  \n",
      "     |  Method resolution order:\n",
      "     |      PicklingError\n",
      "     |      PickleError\n",
      "     |      builtins.Exception\n",
      "     |      builtins.BaseException\n",
      "     |      builtins.object\n",
      "     |  \n",
      "     |  Data descriptors inherited from PickleError:\n",
      "     |  \n",
      "     |  __weakref__\n",
      "     |      list of weak references to the object (if defined)\n",
      "     |  \n",
      "     |  ----------------------------------------------------------------------\n",
      "     |  Methods inherited from builtins.Exception:\n",
      "     |  \n",
      "     |  __init__(self, /, *args, **kwargs)\n",
      "     |      Initialize self.  See help(type(self)) for accurate signature.\n",
      "     |  \n",
      "     |  __new__(*args, **kwargs) from builtins.type\n",
      "     |      Create and return a new object.  See help(type) for accurate signature.\n",
      "     |  \n",
      "     |  ----------------------------------------------------------------------\n",
      "     |  Methods inherited from builtins.BaseException:\n",
      "     |  \n",
      "     |  __delattr__(self, name, /)\n",
      "     |      Implement delattr(self, name).\n",
      "     |  \n",
      "     |  __getattribute__(self, name, /)\n",
      "     |      Return getattr(self, name).\n",
      "     |  \n",
      "     |  __reduce__(...)\n",
      "     |      helper for pickle\n",
      "     |  \n",
      "     |  __repr__(self, /)\n",
      "     |      Return repr(self).\n",
      "     |  \n",
      "     |  __setattr__(self, name, value, /)\n",
      "     |      Implement setattr(self, name, value).\n",
      "     |  \n",
      "     |  __setstate__(...)\n",
      "     |  \n",
      "     |  __str__(self, /)\n",
      "     |      Return str(self).\n",
      "     |  \n",
      "     |  with_traceback(...)\n",
      "     |      Exception.with_traceback(tb) --\n",
      "     |      set self.__traceback__ to tb and return self.\n",
      "     |  \n",
      "     |  ----------------------------------------------------------------------\n",
      "     |  Data descriptors inherited from builtins.BaseException:\n",
      "     |  \n",
      "     |  __cause__\n",
      "     |      exception cause\n",
      "     |  \n",
      "     |  __context__\n",
      "     |      exception context\n",
      "     |  \n",
      "     |  __dict__\n",
      "     |  \n",
      "     |  __suppress_context__\n",
      "     |  \n",
      "     |  __traceback__\n",
      "     |  \n",
      "     |  args\n",
      "    \n",
      "    class Unpickler(builtins.object)\n",
      "     |  This takes a binary file for reading a pickle data stream.\n",
      "     |  \n",
      "     |  The protocol version of the pickle is detected automatically, so no\n",
      "     |  protocol argument is needed.  Bytes past the pickled object's\n",
      "     |  representation are ignored.\n",
      "     |  \n",
      "     |  The argument *file* must have two methods, a read() method that takes\n",
      "     |  an integer argument, and a readline() method that requires no\n",
      "     |  arguments.  Both methods should return bytes.  Thus *file* can be a\n",
      "     |  binary file object opened for reading, an io.BytesIO object, or any\n",
      "     |  other custom object that meets this interface.\n",
      "     |  \n",
      "     |  Optional keyword arguments are *fix_imports*, *encoding* and *errors*,\n",
      "     |  which are used to control compatibility support for pickle stream\n",
      "     |  generated by Python 2.  If *fix_imports* is True, pickle will try to\n",
      "     |  map the old Python 2 names to the new names used in Python 3.  The\n",
      "     |  *encoding* and *errors* tell pickle how to decode 8-bit string\n",
      "     |  instances pickled by Python 2; these default to 'ASCII' and 'strict',\n",
      "     |  respectively.  The *encoding* can be 'bytes' to read these 8-bit\n",
      "     |  string instances as bytes objects.\n",
      "     |  \n",
      "     |  Methods defined here:\n",
      "     |  \n",
      "     |  __init__(self, /, *args, **kwargs)\n",
      "     |      Initialize self.  See help(type(self)) for accurate signature.\n",
      "     |  \n",
      "     |  __new__(*args, **kwargs) from builtins.type\n",
      "     |      Create and return a new object.  See help(type) for accurate signature.\n",
      "     |  \n",
      "     |  __sizeof__(self, /)\n",
      "     |      Returns size in memory, in bytes.\n",
      "     |  \n",
      "     |  find_class(self, module_name, global_name, /)\n",
      "     |      Return an object from a specified module.\n",
      "     |      \n",
      "     |      If necessary, the module will be imported. Subclasses may override\n",
      "     |      this method (e.g. to restrict unpickling of arbitrary classes and\n",
      "     |      functions).\n",
      "     |      \n",
      "     |      This method is called whenever a class or a function object is\n",
      "     |      needed.  Both arguments passed are str objects.\n",
      "     |  \n",
      "     |  load(self, /)\n",
      "     |      Load a pickle.\n",
      "     |      \n",
      "     |      Read a pickled object representation from the open file object given\n",
      "     |      in the constructor, and return the reconstituted object hierarchy\n",
      "     |      specified therein.\n",
      "     |  \n",
      "     |  ----------------------------------------------------------------------\n",
      "     |  Data descriptors defined here:\n",
      "     |  \n",
      "     |  memo\n",
      "     |  \n",
      "     |  persistent_load\n",
      "    \n",
      "    class UnpicklingError(PickleError)\n",
      "     |  Common base class for all non-exit exceptions.\n",
      "     |  \n",
      "     |  Method resolution order:\n",
      "     |      UnpicklingError\n",
      "     |      PickleError\n",
      "     |      builtins.Exception\n",
      "     |      builtins.BaseException\n",
      "     |      builtins.object\n",
      "     |  \n",
      "     |  Data descriptors inherited from PickleError:\n",
      "     |  \n",
      "     |  __weakref__\n",
      "     |      list of weak references to the object (if defined)\n",
      "     |  \n",
      "     |  ----------------------------------------------------------------------\n",
      "     |  Methods inherited from builtins.Exception:\n",
      "     |  \n",
      "     |  __init__(self, /, *args, **kwargs)\n",
      "     |      Initialize self.  See help(type(self)) for accurate signature.\n",
      "     |  \n",
      "     |  __new__(*args, **kwargs) from builtins.type\n",
      "     |      Create and return a new object.  See help(type) for accurate signature.\n",
      "     |  \n",
      "     |  ----------------------------------------------------------------------\n",
      "     |  Methods inherited from builtins.BaseException:\n",
      "     |  \n",
      "     |  __delattr__(self, name, /)\n",
      "     |      Implement delattr(self, name).\n",
      "     |  \n",
      "     |  __getattribute__(self, name, /)\n",
      "     |      Return getattr(self, name).\n",
      "     |  \n",
      "     |  __reduce__(...)\n",
      "     |      helper for pickle\n",
      "     |  \n",
      "     |  __repr__(self, /)\n",
      "     |      Return repr(self).\n",
      "     |  \n",
      "     |  __setattr__(self, name, value, /)\n",
      "     |      Implement setattr(self, name, value).\n",
      "     |  \n",
      "     |  __setstate__(...)\n",
      "     |  \n",
      "     |  __str__(self, /)\n",
      "     |      Return str(self).\n",
      "     |  \n",
      "     |  with_traceback(...)\n",
      "     |      Exception.with_traceback(tb) --\n",
      "     |      set self.__traceback__ to tb and return self.\n",
      "     |  \n",
      "     |  ----------------------------------------------------------------------\n",
      "     |  Data descriptors inherited from builtins.BaseException:\n",
      "     |  \n",
      "     |  __cause__\n",
      "     |      exception cause\n",
      "     |  \n",
      "     |  __context__\n",
      "     |      exception context\n",
      "     |  \n",
      "     |  __dict__\n",
      "     |  \n",
      "     |  __suppress_context__\n",
      "     |  \n",
      "     |  __traceback__\n",
      "     |  \n",
      "     |  args\n",
      "\n",
      "FUNCTIONS\n",
      "    dump(obj, file, protocol=None, *, fix_imports=True)\n",
      "        Write a pickled representation of obj to the open file object file.\n",
      "        \n",
      "        This is equivalent to ``Pickler(file, protocol).dump(obj)``, but may\n",
      "        be more efficient.\n",
      "        \n",
      "        The optional *protocol* argument tells the pickler to use the given\n",
      "        protocol supported protocols are 0, 1, 2, 3 and 4.  The default\n",
      "        protocol is 3; a backward-incompatible protocol designed for Python 3.\n",
      "        \n",
      "        Specifying a negative protocol version selects the highest protocol\n",
      "        version supported.  The higher the protocol used, the more recent the\n",
      "        version of Python needed to read the pickle produced.\n",
      "        \n",
      "        The *file* argument must have a write() method that accepts a single\n",
      "        bytes argument.  It can thus be a file object opened for binary\n",
      "        writing, an io.BytesIO instance, or any other custom object that meets\n",
      "        this interface.\n",
      "        \n",
      "        If *fix_imports* is True and protocol is less than 3, pickle will try\n",
      "        to map the new Python 3 names to the old module names used in Python\n",
      "        2, so that the pickle data stream is readable with Python 2.\n",
      "    \n",
      "    dumps(obj, protocol=None, *, fix_imports=True)\n",
      "        Return the pickled representation of the object as a bytes object.\n",
      "        \n",
      "        The optional *protocol* argument tells the pickler to use the given\n",
      "        protocol; supported protocols are 0, 1, 2, 3 and 4.  The default\n",
      "        protocol is 3; a backward-incompatible protocol designed for Python 3.\n",
      "        \n",
      "        Specifying a negative protocol version selects the highest protocol\n",
      "        version supported.  The higher the protocol used, the more recent the\n",
      "        version of Python needed to read the pickle produced.\n",
      "        \n",
      "        If *fix_imports* is True and *protocol* is less than 3, pickle will\n",
      "        try to map the new Python 3 names to the old module names used in\n",
      "        Python 2, so that the pickle data stream is readable with Python 2.\n",
      "    \n",
      "    load(file, *, fix_imports=True, encoding='ASCII', errors='strict')\n",
      "        Read and return an object from the pickle data stored in a file.\n",
      "        \n",
      "        This is equivalent to ``Unpickler(file).load()``, but may be more\n",
      "        efficient.\n",
      "        \n",
      "        The protocol version of the pickle is detected automatically, so no\n",
      "        protocol argument is needed.  Bytes past the pickled object's\n",
      "        representation are ignored.\n",
      "        \n",
      "        The argument *file* must have two methods, a read() method that takes\n",
      "        an integer argument, and a readline() method that requires no\n",
      "        arguments.  Both methods should return bytes.  Thus *file* can be a\n",
      "        binary file object opened for reading, an io.BytesIO object, or any\n",
      "        other custom object that meets this interface.\n",
      "        \n",
      "        Optional keyword arguments are *fix_imports*, *encoding* and *errors*,\n",
      "        which are used to control compatibility support for pickle stream\n",
      "        generated by Python 2.  If *fix_imports* is True, pickle will try to\n",
      "        map the old Python 2 names to the new names used in Python 3.  The\n",
      "        *encoding* and *errors* tell pickle how to decode 8-bit string\n",
      "        instances pickled by Python 2; these default to 'ASCII' and 'strict',\n",
      "        respectively.  The *encoding* can be 'bytes' to read these 8-bit\n",
      "        string instances as bytes objects.\n",
      "    \n",
      "    loads(data, *, fix_imports=True, encoding='ASCII', errors='strict')\n",
      "        Read and return an object from the given pickle data.\n",
      "        \n",
      "        The protocol version of the pickle is detected automatically, so no\n",
      "        protocol argument is needed.  Bytes past the pickled object's\n",
      "        representation are ignored.\n",
      "        \n",
      "        Optional keyword arguments are *fix_imports*, *encoding* and *errors*,\n",
      "        which are used to control compatibility support for pickle stream\n",
      "        generated by Python 2.  If *fix_imports* is True, pickle will try to\n",
      "        map the old Python 2 names to the new names used in Python 3.  The\n",
      "        *encoding* and *errors* tell pickle how to decode 8-bit string\n",
      "        instances pickled by Python 2; these default to 'ASCII' and 'strict',\n",
      "        respectively.  The *encoding* can be 'bytes' to read these 8-bit\n",
      "        string instances as bytes objects.\n",
      "\n",
      "DATA\n",
      "    ADDITEMS = b'\\x90'\n",
      "    APPEND = b'a'\n",
      "    APPENDS = b'e'\n",
      "    BINBYTES = b'B'\n",
      "    BINBYTES8 = b'\\x8e'\n",
      "    BINFLOAT = b'G'\n",
      "    BINGET = b'h'\n",
      "    BININT = b'J'\n",
      "    BININT1 = b'K'\n",
      "    BININT2 = b'M'\n",
      "    BINPERSID = b'Q'\n",
      "    BINPUT = b'q'\n",
      "    BINSTRING = b'T'\n",
      "    BINUNICODE = b'X'\n",
      "    BINUNICODE8 = b'\\x8d'\n",
      "    BUILD = b'b'\n",
      "    DEFAULT_PROTOCOL = 3\n",
      "    DICT = b'd'\n",
      "    DUP = b'2'\n",
      "    EMPTY_DICT = b'}'\n",
      "    EMPTY_LIST = b']'\n",
      "    EMPTY_SET = b'\\x8f'\n",
      "    EMPTY_TUPLE = b')'\n",
      "    EXT1 = b'\\x82'\n",
      "    EXT2 = b'\\x83'\n",
      "    EXT4 = b'\\x84'\n",
      "    FALSE = b'I00\\n'\n",
      "    FLOAT = b'F'\n",
      "    FRAME = b'\\x95'\n",
      "    FROZENSET = b'\\x91'\n",
      "    GET = b'g'\n",
      "    GLOBAL = b'c'\n",
      "    HIGHEST_PROTOCOL = 4\n",
      "    INST = b'i'\n",
      "    INT = b'I'\n",
      "    LIST = b'l'\n",
      "    LONG = b'L'\n",
      "    LONG1 = b'\\x8a'\n",
      "    LONG4 = b'\\x8b'\n",
      "    LONG_BINGET = b'j'\n",
      "    LONG_BINPUT = b'r'\n",
      "    MARK = b'('\n",
      "    MEMOIZE = b'\\x94'\n",
      "    NEWFALSE = b'\\x89'\n",
      "    NEWOBJ = b'\\x81'\n",
      "    NEWOBJ_EX = b'\\x92'\n",
      "    NEWTRUE = b'\\x88'\n",
      "    NONE = b'N'\n",
      "    OBJ = b'o'\n",
      "    PERSID = b'P'\n",
      "    POP = b'0'\n",
      "    POP_MARK = b'1'\n",
      "    PROTO = b'\\x80'\n",
      "    PUT = b'p'\n",
      "    REDUCE = b'R'\n",
      "    SETITEM = b's'\n",
      "    SETITEMS = b'u'\n",
      "    SHORT_BINBYTES = b'C'\n",
      "    SHORT_BINSTRING = b'U'\n",
      "    SHORT_BINUNICODE = b'\\x8c'\n",
      "    STACK_GLOBAL = b'\\x93'\n",
      "    STOP = b'.'\n",
      "    STRING = b'S'\n",
      "    TRUE = b'I01\\n'\n",
      "    TUPLE = b't'\n",
      "    TUPLE1 = b'\\x85'\n",
      "    TUPLE2 = b'\\x86'\n",
      "    TUPLE3 = b'\\x87'\n",
      "    UNICODE = b'V'\n",
      "    __all__ = ['PickleError', 'PicklingError', 'UnpicklingError', 'Pickler...\n",
      "\n",
      "FILE\n",
      "    /usr/lib/python3.5/pickle.py\n",
      "\n",
      "\n"
     ]
    }
   ],
   "source": [
    "import pickle\n",
    "help(pickle)"
   ]
  },
  {
   "cell_type": "code",
   "execution_count": 8,
   "metadata": {},
   "outputs": [
    {
     "name": "stderr",
     "output_type": "stream",
     "text": [
      "[2020-01-31 23:12:22,627] [DEBUG] - loading ngrams\n",
      "100%|██████████| 2000000/2000000 [00:59<00:00, 33762.30it/s]\n",
      "[2020-01-31 23:13:21,877] [DEBUG] - loading words\n",
      "100%|██████████| 2519370/2519370 [02:19<00:00, 18034.03it/s]\n",
      "[2020-01-31 23:15:41,579] [DEBUG] - ready\n",
      "[2020-01-31 23:15:59,591] [DEBUG] - loading ngrams\n",
      "100%|██████████| 2000000/2000000 [01:19<00:00, 25006.90it/s]\n",
      "[2020-01-31 23:17:19,571] [DEBUG] - ready\n",
      "/usr/local/lib/python3.5/dist-packages/scipy/spatial/distance.py:720: RuntimeWarning: invalid value encountered in double_scalars\n",
      "  dist = 1.0 - uv / np.sqrt(uu * vv)\n",
      "[2020-01-31 23:17:31,693] [DEBUG] - loading ngrams\n",
      "100%|██████████| 400000/400000 [00:07<00:00, 53700.83it/s]\n",
      "[2020-01-31 23:17:39,144] [DEBUG] - loading words\n",
      "100%|██████████| 2519370/2519370 [00:49<00:00, 51031.87it/s]\n",
      "[2020-01-31 23:18:28,514] [DEBUG] - ready\n",
      "[2020-01-31 23:18:36,983] [DEBUG] - loading ngrams\n",
      "100%|██████████| 400000/400000 [00:07<00:00, 53409.88it/s]\n",
      "[2020-01-31 23:18:44,475] [DEBUG] - ready\n",
      "[2020-01-31 23:18:52,326] [DEBUG] - loading ngrams\n",
      "100%|██████████| 200000/200000 [00:03<00:00, 54722.57it/s]\n",
      "[2020-01-31 23:18:55,983] [DEBUG] - loading words\n",
      "100%|██████████| 2519370/2519370 [00:42<00:00, 59483.75it/s]\n",
      "[2020-01-31 23:19:38,339] [DEBUG] - ready\n",
      "[2020-01-31 23:19:52,633] [DEBUG] - loading ngrams\n",
      "100%|██████████| 200000/200000 [00:03<00:00, 54343.31it/s]\n",
      "[2020-01-31 23:19:56,315] [DEBUG] - ready\n",
      "[2020-01-31 23:20:16,212] [DEBUG] - loading ngrams\n",
      "100%|██████████| 40000/40000 [00:00<00:00, 56056.89it/s]\n",
      "[2020-01-31 23:20:16,928] [DEBUG] - loading words\n",
      "100%|██████████| 2519370/2519370 [00:37<00:00, 68016.81it/s]\n",
      "[2020-01-31 23:20:53,971] [DEBUG] - ready\n",
      "[2020-01-31 23:21:01,309] [DEBUG] - loading ngrams\n",
      "100%|██████████| 40000/40000 [00:00<00:00, 56426.23it/s]\n",
      "[2020-01-31 23:21:02,021] [DEBUG] - ready\n",
      "[2020-01-31 23:21:09,532] [DEBUG] - loading ngrams\n",
      "100%|██████████| 20000/20000 [00:00<00:00, 54857.69it/s]\n",
      "[2020-01-31 23:21:09,904] [DEBUG] - loading words\n",
      "100%|██████████| 2519370/2519370 [00:36<00:00, 69230.63it/s]\n",
      "[2020-01-31 23:21:46,297] [DEBUG] - ready\n",
      "[2020-01-31 23:21:53,437] [DEBUG] - loading ngrams\n",
      "100%|██████████| 20000/20000 [00:00<00:00, 56899.27it/s]\n",
      "[2020-01-31 23:21:53,791] [DEBUG] - ready\n"
     ]
    }
   ],
   "source": [
    "import pickle\n",
    "import os \n",
    "db_name = './test_db'\n",
    "result = {}\n",
    "for take_every in [1,5,10,50,100]:\n",
    "    for word_ngrams in [True, False]:\n",
    "        os.system('rm -r {0}'.format(db_name))\n",
    "        dc = dumb.DumbCompressor(db.ShelveStorage(db_name, 'c'))\n",
    "        dc.fit(model, word_ngrams, take_every)\n",
    "        cos, eucl = eval_model()\n",
    "        result[(take_every, word_ngrams)] = cos, eucl\n",
    "        with open('results_dumb.pckl', 'wb') as out:\n",
    "            pickle.dump(result, out)"
   ]
  },
  {
   "cell_type": "code",
   "execution_count": 9,
   "metadata": {},
   "outputs": [],
   "source": [
    "import pickle\n",
    "with open('results_dumb.pckl', 'rb') as inp:\n",
    "    result = pickle.load(inp)"
   ]
  },
  {
   "cell_type": "code",
   "execution_count": 10,
   "metadata": {},
   "outputs": [
    {
     "name": "stderr",
     "output_type": "stream",
     "text": [
      "\r",
      " 31%|███       | 768992/2519370 [00:30<00:50, 34699.78it/s]"
     ]
    }
   ],
   "source": [
    "del model"
   ]
  },
  {
   "cell_type": "code",
   "execution_count": 13,
   "metadata": {},
   "outputs": [
    {
     "data": {
      "text/plain": [
       "0"
      ]
     },
     "execution_count": 13,
     "metadata": {},
     "output_type": "execute_result"
    }
   ],
   "source": [
    "import gc\n",
    "gc.collect()"
   ]
  },
  {
   "cell_type": "code",
   "execution_count": 10,
   "metadata": {},
   "outputs": [
    {
     "data": {
      "text/plain": [
       "dict_keys([(50, False), (5, False), (10, True), (10, False), (5, True), (1, False), (100, True), (1, True), (50, True), (100, False)])"
      ]
     },
     "execution_count": 10,
     "metadata": {},
     "output_type": "execute_result"
    }
   ],
   "source": [
    "result.keys()"
   ]
  },
  {
   "cell_type": "code",
   "execution_count": 43,
   "metadata": {},
   "outputs": [
    {
     "data": {
      "text/plain": [
       "[<matplotlib.lines.Line2D at 0x7fda200ce160>]"
      ]
     },
     "execution_count": 43,
     "metadata": {},
     "output_type": "execute_result"
    },
    {
     "name": "stderr",
     "output_type": "stream",
     "text": [
      "[2020-01-31 23:31:22,702] [DEBUG] - update_title_pos\n",
      "[2020-01-31 23:31:22,729] [DEBUG] - update_title_pos\n",
      "[2020-01-31 23:31:22,756] [DEBUG] - update_title_pos\n",
      "[2020-01-31 23:31:22,778] [DEBUG] - update_title_pos\n",
      "[2020-01-31 23:31:22,789] [DEBUG] - update_title_pos\n"
     ]
    },
    {
     "data": {
      "image/png": "[encoded data removed]",
      "text/plain": [
       "<Figure size 432x288 with 1 Axes>"
      ]
     },
     "metadata": {
      "needs_background": "light"
     },
     "output_type": "display_data"
    }
   ],
   "source": [
    "x = []\n",
    "y = []\n",
    "ys = []\n",
    "for i in sorted(result.keys(), key=lambda x:x[0]):\n",
    "    if i[1] == False:\n",
    "        x.append(i[0])\n",
    "        y.append(np.mean(result[i][1]))\n",
    "        ys.append(np.std(result[i][1]))\n",
    "y = np.array(y)\n",
    "ys = np.array(ys)\n",
    "plt.fill_between(x,y-ys, y+ys, alpha=0.5)\n",
    "plt.plot(x,y, alpha=0.5)\n",
    "\n",
    "x = []\n",
    "y = []\n",
    "ys = []\n",
    "for i in sorted(result.keys(), key=lambda x:x[0]):\n",
    "    if i[1] == True:\n",
    "        x.append(i[0])\n",
    "        y.append(np.mean(result[i][1]))\n",
    "        ys.append(np.std(result[i][1]))\n",
    "y = np.array(y)\n",
    "ys = np.array(ys)\n",
    "plt.fill_between(x,y-ys, y+ys, alpha=0.5, color='r')\n",
    "plt.plot(x,y,  alpha=0.5)\n"
   ]
  },
  {
   "cell_type": "code",
   "execution_count": 45,
   "metadata": {},
   "outputs": [
    {
     "data": {
      "text/plain": [
       "[<matplotlib.lines.Line2D at 0x7fda1bbb5b38>]"
      ]
     },
     "execution_count": 45,
     "metadata": {},
     "output_type": "execute_result"
    },
    {
     "name": "stderr",
     "output_type": "stream",
     "text": [
      "[2020-01-31 23:32:41,602] [DEBUG] - update_title_pos\n",
      "[2020-01-31 23:32:41,624] [DEBUG] - update_title_pos\n",
      "[2020-01-31 23:32:41,650] [DEBUG] - update_title_pos\n",
      "[2020-01-31 23:32:41,668] [DEBUG] - update_title_pos\n",
      "[2020-01-31 23:32:41,679] [DEBUG] - update_title_pos\n"
     ]
    },
    {
     "data": {
      "image/png": "[encoded data removed]",
      "text/plain": [
       "<Figure size 432x288 with 1 Axes>"
      ]
     },
     "metadata": {
      "needs_background": "light"
     },
     "output_type": "display_data"
    }
   ],
   "source": [
    "x = []\n",
    "y = []\n",
    "ys = []\n",
    "for i in sorted(result.keys(), key=lambda x:x[0]):\n",
    "    if i[1] == False:\n",
    "        x.append(i[0])\n",
    "        y.append(np.mean([r for r in result[i][0] if not np.isnan(r)]))\n",
    "        ys.append(np.std([r for r in result[i][0] if not np.isnan(r)]))\n",
    "y = np.array(y)\n",
    "ys = np.array(ys)\n",
    "plt.fill_between(x,y-ys, y+ys, alpha=0.5)\n",
    "plt.plot(x,y, alpha=0.5)\n",
    "\n",
    "x = []\n",
    "y = []\n",
    "ys = []\n",
    "for i in sorted(result.keys(), key=lambda x:x[0]):\n",
    "    if i[1] == True:\n",
    "        x.append(i[0])\n",
    "        y.append(np.mean([r for r in result[i][0] if not np.isnan(r)]))\n",
    "        ys.append(np.std([r for r in result[i][0] if not np.isnan(r)]))\n",
    "y = np.array(y)\n",
    "ys = np.array(ys)\n",
    "plt.fill_between(x,y-ys, y+ys, alpha=0.5, color='r')\n",
    "plt.plot(x,y,  alpha=0.5)\n"
   ]
  },
  {
   "cell_type": "code",
   "execution_count": 46,
   "metadata": {},
   "outputs": [],
   "source": [
    "import compressors.compressor8  as dumb \n",
    "#import compressors.compressor8 as d \n",
    "import storages.shelve_based as db\n",
    "#from importlib import reload\n",
    "#reload(d)"
   ]
  },
  {
   "cell_type": "code",
   "execution_count": 48,
   "metadata": {},
   "outputs": [
    {
     "name": "stderr",
     "output_type": "stream",
     "text": [
      "[2020-01-31 23:33:39,467] [DEBUG] - estimating params\n",
      "100%|██████████| 4519370/4519370 [01:10<00:00, 64453.70it/s]\n",
      "[2020-01-31 23:34:49,587] [DEBUG] - loading ngrams\n",
      "100%|██████████| 2000000/2000000 [01:33<00:00, 21432.08it/s]\n",
      "[2020-01-31 23:36:22,907] [DEBUG] - loading words\n",
      "100%|██████████| 2519370/2519370 [03:00<00:00, 13978.00it/s]\n",
      "[2020-01-31 23:39:23,147] [DEBUG] - ready\n",
      "[2020-01-31 23:39:38,467] [DEBUG] - estimating params\n",
      "100%|██████████| 4519370/4519370 [01:06<00:00, 68421.33it/s]\n",
      "[2020-01-31 23:40:44,521] [DEBUG] - loading ngrams\n",
      "100%|██████████| 2000000/2000000 [01:36<00:00, 20727.27it/s]\n",
      "[2020-01-31 23:42:21,013] [DEBUG] - ready\n",
      "/usr/local/lib/python3.5/dist-packages/scipy/spatial/distance.py:720: RuntimeWarning: invalid value encountered in double_scalars\n",
      "  dist = 1.0 - uv / np.sqrt(uu * vv)\n",
      "[2020-01-31 23:42:34,804] [DEBUG] - estimating params\n",
      "100%|██████████| 4519370/4519370 [01:11<00:00, 63143.34it/s]\n",
      "[2020-01-31 23:43:46,380] [DEBUG] - loading ngrams\n",
      "100%|██████████| 400000/400000 [00:18<00:00, 22061.97it/s]\n",
      "[2020-01-31 23:44:04,512] [DEBUG] - loading words\n",
      "100%|██████████| 2519370/2519370 [01:06<00:00, 37920.24it/s]\n",
      "[2020-01-31 23:45:10,952] [DEBUG] - ready\n",
      "[2020-01-31 23:45:20,161] [DEBUG] - estimating params\n",
      "100%|██████████| 4519370/4519370 [01:05<00:00, 69362.64it/s]\n",
      "[2020-01-31 23:46:25,319] [DEBUG] - loading ngrams\n",
      "100%|██████████| 400000/400000 [00:18<00:00, 21111.92it/s]\n",
      "[2020-01-31 23:46:44,267] [DEBUG] - ready\n",
      "[2020-01-31 23:46:53,355] [DEBUG] - estimating params\n",
      "100%|██████████| 4519370/4519370 [01:03<00:00, 70680.83it/s]\n",
      "[2020-01-31 23:47:57,298] [DEBUG] - loading ngrams\n",
      "100%|██████████| 200000/200000 [00:09<00:00, 20910.28it/s]\n",
      "[2020-01-31 23:48:06,864] [DEBUG] - loading words\n",
      "100%|██████████| 2519370/2519370 [00:52<00:00, 48359.94it/s]\n",
      "[2020-01-31 23:48:58,962] [DEBUG] - ready\n",
      "[2020-01-31 23:49:07,341] [DEBUG] - estimating params\n",
      " 23%|██▎       | 1046709/4519370 [00:16<00:57, 60071.10it/s]"
     ]
    },
    {
     "ename": "KeyboardInterrupt",
     "evalue": "",
     "output_type": "error",
     "traceback": [
      "\u001b[0;31m---------------------------------------------------------------------------\u001b[0m",
      "\u001b[0;31mKeyboardInterrupt\u001b[0m                         Traceback (most recent call last)",
      "\u001b[0;32m<ipython-input-48-b578f50e8741>\u001b[0m in \u001b[0;36m<module>\u001b[0;34m\u001b[0m\n\u001b[1;32m      7\u001b[0m         \u001b[0mos\u001b[0m\u001b[0;34m.\u001b[0m\u001b[0msystem\u001b[0m\u001b[0;34m(\u001b[0m\u001b[0;34m'rm -r {0}'\u001b[0m\u001b[0;34m.\u001b[0m\u001b[0mformat\u001b[0m\u001b[0;34m(\u001b[0m\u001b[0mdb_name\u001b[0m\u001b[0;34m)\u001b[0m\u001b[0;34m)\u001b[0m\u001b[0;34m\u001b[0m\u001b[0m\n\u001b[1;32m      8\u001b[0m         \u001b[0mdc\u001b[0m \u001b[0;34m=\u001b[0m \u001b[0mdumb\u001b[0m\u001b[0;34m.\u001b[0m\u001b[0mCompressor8Bit\u001b[0m\u001b[0;34m(\u001b[0m\u001b[0mdb\u001b[0m\u001b[0;34m.\u001b[0m\u001b[0mShelveStorage\u001b[0m\u001b[0;34m(\u001b[0m\u001b[0mdb_name\u001b[0m\u001b[0;34m,\u001b[0m \u001b[0;34m'c'\u001b[0m\u001b[0;34m)\u001b[0m\u001b[0;34m)\u001b[0m\u001b[0;34m\u001b[0m\u001b[0m\n\u001b[0;32m----> 9\u001b[0;31m         \u001b[0mdc\u001b[0m\u001b[0;34m.\u001b[0m\u001b[0mfit\u001b[0m\u001b[0;34m(\u001b[0m\u001b[0mmodel\u001b[0m\u001b[0;34m,\u001b[0m \u001b[0mword_ngrams\u001b[0m\u001b[0;34m,\u001b[0m \u001b[0mtake_every\u001b[0m\u001b[0;34m)\u001b[0m\u001b[0;34m\u001b[0m\u001b[0m\n\u001b[0m\u001b[1;32m     10\u001b[0m         \u001b[0mcos\u001b[0m\u001b[0;34m,\u001b[0m \u001b[0meucl\u001b[0m \u001b[0;34m=\u001b[0m \u001b[0meval_model\u001b[0m\u001b[0;34m(\u001b[0m\u001b[0;34m)\u001b[0m\u001b[0;34m\u001b[0m\u001b[0m\n\u001b[1;32m     11\u001b[0m         \u001b[0mresult\u001b[0m\u001b[0;34m[\u001b[0m\u001b[0;34m(\u001b[0m\u001b[0mtake_every\u001b[0m\u001b[0;34m,\u001b[0m \u001b[0mword_ngrams\u001b[0m\u001b[0;34m)\u001b[0m\u001b[0;34m]\u001b[0m \u001b[0;34m=\u001b[0m \u001b[0mcos\u001b[0m\u001b[0;34m,\u001b[0m \u001b[0meucl\u001b[0m\u001b[0;34m\u001b[0m\u001b[0m\n",
      "\u001b[0;32m~/ft_compress/ft_compress/compressors/compressor8.py\u001b[0m in \u001b[0;36mfit\u001b[0;34m(self, ft_model, save_word_ngrams, take_every)\u001b[0m\n\u001b[1;32m     29\u001b[0m         \u001b[0mmax_\u001b[0m \u001b[0;34m=\u001b[0m \u001b[0;34m-\u001b[0m\u001b[0;36m99999999.0\u001b[0m\u001b[0;34m\u001b[0m\u001b[0m\n\u001b[1;32m     30\u001b[0m         \u001b[0;32mfor\u001b[0m \u001b[0mi\u001b[0m \u001b[0;32min\u001b[0m  \u001b[0mtqdm\u001b[0m\u001b[0;34m.\u001b[0m\u001b[0mtqdm\u001b[0m\u001b[0;34m(\u001b[0m\u001b[0mrange\u001b[0m\u001b[0;34m(\u001b[0m\u001b[0;36m0\u001b[0m\u001b[0;34m,\u001b[0m \u001b[0mbucket_size\u001b[0m\u001b[0;34m+\u001b[0m\u001b[0mword_num\u001b[0m\u001b[0;34m)\u001b[0m\u001b[0;34m,\u001b[0m \u001b[0mtotal\u001b[0m\u001b[0;34m=\u001b[0m\u001b[0mbucket_size\u001b[0m\u001b[0;34m+\u001b[0m\u001b[0mword_num\u001b[0m\u001b[0;34m)\u001b[0m\u001b[0;34m:\u001b[0m\u001b[0;34m\u001b[0m\u001b[0m\n\u001b[0;32m---> 31\u001b[0;31m             \u001b[0mv\u001b[0m \u001b[0;34m=\u001b[0m \u001b[0mft_model\u001b[0m\u001b[0;34m.\u001b[0m\u001b[0mget_input_vector\u001b[0m\u001b[0;34m(\u001b[0m\u001b[0mi\u001b[0m\u001b[0;34m)\u001b[0m\u001b[0;34m\u001b[0m\u001b[0m\n\u001b[0m\u001b[1;32m     32\u001b[0m \u001b[0;34m\u001b[0m\u001b[0m\n\u001b[1;32m     33\u001b[0m             \u001b[0mmin_\u001b[0m \u001b[0;34m=\u001b[0m \u001b[0mmin\u001b[0m\u001b[0;34m(\u001b[0m\u001b[0mmin_\u001b[0m\u001b[0;34m,\u001b[0m \u001b[0mnp\u001b[0m\u001b[0;34m.\u001b[0m\u001b[0mmin\u001b[0m\u001b[0;34m(\u001b[0m\u001b[0mv\u001b[0m\u001b[0;34m)\u001b[0m\u001b[0;34m)\u001b[0m\u001b[0;34m\u001b[0m\u001b[0m\n",
      "\u001b[0;32m/usr/local/lib/python3.5/dist-packages/fasttext/FastText.py\u001b[0m in \u001b[0;36mget_input_vector\u001b[0;34m(self, ind)\u001b[0m\n\u001b[1;32m    120\u001b[0m         \u001b[0mb\u001b[0m \u001b[0;34m=\u001b[0m \u001b[0mfasttext\u001b[0m\u001b[0;34m.\u001b[0m\u001b[0mVector\u001b[0m\u001b[0;34m(\u001b[0m\u001b[0mdim\u001b[0m\u001b[0;34m)\u001b[0m\u001b[0;34m\u001b[0m\u001b[0m\n\u001b[1;32m    121\u001b[0m         \u001b[0mself\u001b[0m\u001b[0;34m.\u001b[0m\u001b[0mf\u001b[0m\u001b[0;34m.\u001b[0m\u001b[0mgetInputVector\u001b[0m\u001b[0;34m(\u001b[0m\u001b[0mb\u001b[0m\u001b[0;34m,\u001b[0m \u001b[0mind\u001b[0m\u001b[0;34m)\u001b[0m\u001b[0;34m\u001b[0m\u001b[0m\n\u001b[0;32m--> 122\u001b[0;31m         \u001b[0;32mreturn\u001b[0m \u001b[0mnp\u001b[0m\u001b[0;34m.\u001b[0m\u001b[0marray\u001b[0m\u001b[0;34m(\u001b[0m\u001b[0mb\u001b[0m\u001b[0;34m)\u001b[0m\u001b[0;34m\u001b[0m\u001b[0m\n\u001b[0m\u001b[1;32m    123\u001b[0m \u001b[0;34m\u001b[0m\u001b[0m\n\u001b[1;32m    124\u001b[0m     \u001b[0;32mdef\u001b[0m \u001b[0mpredict\u001b[0m\u001b[0;34m(\u001b[0m\u001b[0mself\u001b[0m\u001b[0;34m,\u001b[0m \u001b[0mtext\u001b[0m\u001b[0;34m,\u001b[0m \u001b[0mk\u001b[0m\u001b[0;34m=\u001b[0m\u001b[0;36m1\u001b[0m\u001b[0;34m,\u001b[0m \u001b[0mthreshold\u001b[0m\u001b[0;34m=\u001b[0m\u001b[0;36m0.0\u001b[0m\u001b[0;34m,\u001b[0m \u001b[0mon_unicode_error\u001b[0m\u001b[0;34m=\u001b[0m\u001b[0;34m'strict'\u001b[0m\u001b[0;34m)\u001b[0m\u001b[0;34m:\u001b[0m\u001b[0;34m\u001b[0m\u001b[0m\n",
      "\u001b[0;31mKeyboardInterrupt\u001b[0m: "
     ]
    }
   ],
   "source": [
    "import pickle\n",
    "import os \n",
    "db_name = './test_db'\n",
    "result = {}\n",
    "for take_every in [1,5,10,50,100]:\n",
    "    for word_ngrams in [True, False]:\n",
    "        os.system('rm -r {0}'.format(db_name))\n",
    "        dc = dumb.Compressor8Bit(db.ShelveStorage(db_name, 'c'))\n",
    "        dc.fit(model, word_ngrams, take_every)\n",
    "        cos, eucl = eval_model()\n",
    "        result[(take_every, word_ngrams)] = cos, eucl\n",
    "        with open('results_8bit.pckl', 'wb') as out:\n",
    "            pickle.dump(result, out)"
   ]
  },
  {
   "cell_type": "code",
   "execution_count": 49,
   "metadata": {},
   "outputs": [],
   "source": [
    "import pickle\n",
    "with open('results_dumb.pckl', 'rb') as inp:\n",
    "    result = pickle.load(inp)"
   ]
  },
  {
   "cell_type": "code",
   "execution_count": 50,
   "metadata": {},
   "outputs": [
    {
     "data": {
      "text/plain": [
       "[<matplotlib.lines.Line2D at 0x7fda1b7f0e10>]"
      ]
     },
     "execution_count": 50,
     "metadata": {},
     "output_type": "execute_result"
    },
    {
     "name": "stderr",
     "output_type": "stream",
     "text": [
      "[2020-01-31 23:49:45,890] [DEBUG] - update_title_pos\n",
      "[2020-01-31 23:49:45,916] [DEBUG] - update_title_pos\n",
      "[2020-01-31 23:49:45,942] [DEBUG] - update_title_pos\n",
      "[2020-01-31 23:49:45,963] [DEBUG] - update_title_pos\n",
      "[2020-01-31 23:49:45,975] [DEBUG] - update_title_pos\n"
     ]
    },
    {
     "data": {
      "image/png": "[encoded data removed]",
      "text/plain": [
       "<Figure size 432x288 with 1 Axes>"
      ]
     },
     "metadata": {
      "needs_background": "light"
     },
     "output_type": "display_data"
    }
   ],
   "source": [
    "x = []\n",
    "y = []\n",
    "ys = []\n",
    "for i in sorted(result.keys(), key=lambda x:x[0]):\n",
    "    if i[1] == False:\n",
    "        x.append(i[0])\n",
    "        y.append(np.mean(result[i][1]))\n",
    "        ys.append(np.std(result[i][1]))\n",
    "y = np.array(y)\n",
    "ys = np.array(ys)\n",
    "plt.fill_between(x,y-ys, y+ys, alpha=0.5)\n",
    "plt.plot(x,y, alpha=0.5)\n",
    "\n",
    "x = []\n",
    "y = []\n",
    "ys = []\n",
    "for i in sorted(result.keys(), key=lambda x:x[0]):\n",
    "    if i[1] == True:\n",
    "        x.append(i[0])\n",
    "        y.append(np.mean(result[i][1]))\n",
    "        ys.append(np.std(result[i][1]))\n",
    "y = np.array(y)\n",
    "ys = np.array(ys)\n",
    "plt.fill_between(x,y-ys, y+ys, alpha=0.5, color='r')\n",
    "plt.plot(x,y,  alpha=0.5)\n"
   ]
  },
  {
   "cell_type": "code",
   "execution_count": 52,
   "metadata": {},
   "outputs": [
    {
     "data": {
      "text/plain": [
       "[<matplotlib.lines.Line2D at 0x7fda17e79208>]"
      ]
     },
     "execution_count": 52,
     "metadata": {},
     "output_type": "execute_result"
    },
    {
     "name": "stderr",
     "output_type": "stream",
     "text": [
      "[2020-01-31 23:50:19,010] [DEBUG] - update_title_pos\n",
      "[2020-01-31 23:50:19,042] [DEBUG] - update_title_pos\n",
      "[2020-01-31 23:50:19,070] [DEBUG] - update_title_pos\n",
      "[2020-01-31 23:50:19,092] [DEBUG] - update_title_pos\n",
      "[2020-01-31 23:50:19,104] [DEBUG] - update_title_pos\n"
     ]
    },
    {
     "data": {
      "image/png": "[encoded data removed]",
      "text/plain": [
       "<Figure size 432x288 with 1 Axes>"
      ]
     },
     "metadata": {
      "needs_background": "light"
     },
     "output_type": "display_data"
    }
   ],
   "source": [
    "x = []\n",
    "y = []\n",
    "ys = []\n",
    "for i in sorted(result.keys(), key=lambda x:x[0]):\n",
    "    if i[1] == False:\n",
    "        x.append(i[0])\n",
    "        y.append(np.mean([r for r in result[i][0] if not np.isnan(r)]))\n",
    "        ys.append(np.std([r for r in result[i][0] if not np.isnan(r)]))\n",
    "y = np.array(y)\n",
    "ys = np.array(ys)\n",
    "plt.fill_between(x,y-ys, y+ys, alpha=0.5)\n",
    "plt.plot(x,y, alpha=0.5)\n",
    "\n",
    "x = []\n",
    "y = []\n",
    "ys = []\n",
    "for i in sorted(result.keys(), key=lambda x:x[0]):\n",
    "    if i[1] == True:\n",
    "        x.append(i[0])\n",
    "        y.append(np.mean([r for r in result[i][0] if not np.isnan(r)]))\n",
    "        ys.append(np.std([r for r in result[i][0] if not np.isnan(r)]))\n",
    "y = np.array(y)\n",
    "ys = np.array(ys)\n",
    "plt.fill_between(x,y-ys, y+ys, alpha=0.5, color='r')\n",
    "plt.plot(x,y,  alpha=0.5)\n"
   ]
  },
  {
   "cell_type": "code",
   "execution_count": 9,
   "metadata": {},
   "outputs": [
    {
     "data": {
      "text/plain": [
       "<module 'compressors.compressor8' from '/home/legin/ft_compress/ft_compress/compressors/compressor8.py'>"
      ]
     },
     "execution_count": 9,
     "metadata": {},
     "output_type": "execute_result"
    }
   ],
   "source": [
    "import compressors.compressor8 as d \n",
    "from importlib import reload\n",
    "reload(d)"
   ]
  },
  {
   "cell_type": "code",
   "execution_count": 10,
   "metadata": {},
   "outputs": [
    {
     "name": "stderr",
     "output_type": "stream",
     "text": [
      "[2020-01-12 14:35:37,861] [DEBUG] - Loading words\n",
      "[2020-01-12 14:35:48,702] [WARNING] - Too many ngrams, breaking\n",
      "[2020-01-12 14:35:48,702] [WARNING] - Too many ngrams, breaking\n",
      "[2020-01-12 14:35:48,702] [DEBUG] - Estimating parameters\n",
      "[2020-01-12 14:36:15,707] [DEBUG] - filling matrix\n"
     ]
    },
    {
     "ename": "KeyboardInterrupt",
     "evalue": "",
     "output_type": "error",
     "traceback": [
      "\u001b[0;31m---------------------------------------------------------------------------\u001b[0m",
      "\u001b[0;31mKeyboardInterrupt\u001b[0m                         Traceback (most recent call last)",
      "\u001b[0;32m<ipython-input-10-a6f7f8d74045>\u001b[0m in \u001b[0;36m<module>\u001b[0;34m\u001b[0m\n\u001b[0;32m----> 1\u001b[0;31m \u001b[0mdc\u001b[0m \u001b[0;34m=\u001b[0m \u001b[0md\u001b[0m\u001b[0;34m.\u001b[0m\u001b[0mCompressor8bit\u001b[0m\u001b[0;34m(\u001b[0m\u001b[0mmodel\u001b[0m\u001b[0;34m,\u001b[0m \u001b[0;36m2500000\u001b[0m\u001b[0;34m)\u001b[0m \u001b[0;31m#~50% percents\u001b[0m\u001b[0;34m\u001b[0m\u001b[0m\n\u001b[0m",
      "\u001b[0;32m~/ft_compress/ft_compress/compressors/compressor8.py\u001b[0m in \u001b[0;36m__init__\u001b[0;34m(self, ft_model, maxsize)\u001b[0m\n\u001b[1;32m     30\u001b[0m         \u001b[0;32mfor\u001b[0m \u001b[0mnew_id\u001b[0m\u001b[0;34m,\u001b[0m\u001b[0mn\u001b[0m \u001b[0;32min\u001b[0m \u001b[0menumerate\u001b[0m\u001b[0;34m(\u001b[0m\u001b[0mself\u001b[0m\u001b[0;34m.\u001b[0m\u001b[0mngrams\u001b[0m\u001b[0;34m)\u001b[0m\u001b[0;34m:\u001b[0m\u001b[0;34m\u001b[0m\u001b[0m\n\u001b[1;32m     31\u001b[0m             \u001b[0mold_id\u001b[0m \u001b[0;34m=\u001b[0m \u001b[0mself\u001b[0m\u001b[0;34m.\u001b[0m\u001b[0mngrams\u001b[0m\u001b[0;34m[\u001b[0m\u001b[0mn\u001b[0m\u001b[0;34m]\u001b[0m\u001b[0;34m\u001b[0m\u001b[0m\n\u001b[0;32m---> 32\u001b[0;31m             \u001b[0mself\u001b[0m\u001b[0;34m.\u001b[0m\u001b[0mngrams\u001b[0m\u001b[0;34m[\u001b[0m\u001b[0mn\u001b[0m\u001b[0;34m]\u001b[0m \u001b[0;34m=\u001b[0m \u001b[0mself\u001b[0m\u001b[0;34m.\u001b[0m\u001b[0mvector_to_bytes\u001b[0m\u001b[0;34m(\u001b[0m\u001b[0mft_model\u001b[0m\u001b[0;34m.\u001b[0m\u001b[0mget_input_vector\u001b[0m\u001b[0;34m(\u001b[0m\u001b[0mold_id\u001b[0m\u001b[0;34m)\u001b[0m\u001b[0;34m)\u001b[0m\u001b[0;34m\u001b[0m\u001b[0m\n\u001b[0m\u001b[1;32m     33\u001b[0m         \u001b[0mlogging\u001b[0m\u001b[0;34m.\u001b[0m\u001b[0mdebug\u001b[0m\u001b[0;34m(\u001b[0m\u001b[0;34m'ready'\u001b[0m\u001b[0;34m)\u001b[0m\u001b[0;34m\u001b[0m\u001b[0m\n\u001b[1;32m     34\u001b[0m         \u001b[0mself\u001b[0m\u001b[0;34m.\u001b[0m\u001b[0mbyte_size\u001b[0m \u001b[0;34m=\u001b[0m \u001b[0mlen\u001b[0m\u001b[0;34m(\u001b[0m\u001b[0mself\u001b[0m\u001b[0;34m.\u001b[0m\u001b[0mngrams\u001b[0m\u001b[0;34m[\u001b[0m\u001b[0mn\u001b[0m\u001b[0;34m]\u001b[0m\u001b[0;34m)\u001b[0m\u001b[0;34m\u001b[0m\u001b[0m\n",
      "\u001b[0;32m/usr/local/lib/python3.5/dist-packages/fasttext/FastText.py\u001b[0m in \u001b[0;36mget_input_vector\u001b[0;34m(self, ind)\u001b[0m\n\u001b[1;32m    112\u001b[0m         \u001b[0mb\u001b[0m \u001b[0;34m=\u001b[0m \u001b[0mfasttext\u001b[0m\u001b[0;34m.\u001b[0m\u001b[0mVector\u001b[0m\u001b[0;34m(\u001b[0m\u001b[0mdim\u001b[0m\u001b[0;34m)\u001b[0m\u001b[0;34m\u001b[0m\u001b[0m\n\u001b[1;32m    113\u001b[0m         \u001b[0mself\u001b[0m\u001b[0;34m.\u001b[0m\u001b[0mf\u001b[0m\u001b[0;34m.\u001b[0m\u001b[0mgetInputVector\u001b[0m\u001b[0;34m(\u001b[0m\u001b[0mb\u001b[0m\u001b[0;34m,\u001b[0m \u001b[0mind\u001b[0m\u001b[0;34m)\u001b[0m\u001b[0;34m\u001b[0m\u001b[0m\n\u001b[0;32m--> 114\u001b[0;31m         \u001b[0;32mreturn\u001b[0m \u001b[0mnp\u001b[0m\u001b[0;34m.\u001b[0m\u001b[0marray\u001b[0m\u001b[0;34m(\u001b[0m\u001b[0mb\u001b[0m\u001b[0;34m)\u001b[0m\u001b[0;34m\u001b[0m\u001b[0m\n\u001b[0m\u001b[1;32m    115\u001b[0m \u001b[0;34m\u001b[0m\u001b[0m\n\u001b[1;32m    116\u001b[0m     \u001b[0;32mdef\u001b[0m \u001b[0mpredict\u001b[0m\u001b[0;34m(\u001b[0m\u001b[0mself\u001b[0m\u001b[0;34m,\u001b[0m \u001b[0mtext\u001b[0m\u001b[0;34m,\u001b[0m \u001b[0mk\u001b[0m\u001b[0;34m=\u001b[0m\u001b[0;36m1\u001b[0m\u001b[0;34m,\u001b[0m \u001b[0mthreshold\u001b[0m\u001b[0;34m=\u001b[0m\u001b[0;36m0.0\u001b[0m\u001b[0;34m,\u001b[0m \u001b[0mon_unicode_error\u001b[0m\u001b[0;34m=\u001b[0m\u001b[0;34m'strict'\u001b[0m\u001b[0;34m)\u001b[0m\u001b[0;34m:\u001b[0m\u001b[0;34m\u001b[0m\u001b[0m\n",
      "\u001b[0;31mKeyboardInterrupt\u001b[0m: "
     ]
    }
   ],
   "source": [
    "dc = d.Compressor8bit(model, 2500000) #~50% percents"
   ]
  },
  {
   "cell_type": "code",
   "execution_count": 23,
   "metadata": {},
   "outputs": [
    {
     "data": {
      "text/plain": [
       "['<ba',\n",
       " '<ban',\n",
       " '<bana',\n",
       " '<banan',\n",
       " 'ban',\n",
       " 'bana',\n",
       " 'banan',\n",
       " 'banana',\n",
       " 'ana',\n",
       " 'anan',\n",
       " 'anana',\n",
       " 'ananan',\n",
       " 'nan',\n",
       " 'nana',\n",
       " 'nanan',\n",
       " 'nanana',\n",
       " 'ana',\n",
       " 'anan',\n",
       " 'anana',\n",
       " 'ananan',\n",
       " 'nan',\n",
       " 'nana',\n",
       " 'nanan',\n",
       " 'nanana',\n",
       " 'ana',\n",
       " 'anan',\n",
       " 'anana',\n",
       " 'ananan',\n",
       " 'nan',\n",
       " 'nana',\n",
       " 'nanan',\n",
       " 'nanana',\n",
       " 'ana',\n",
       " 'anan',\n",
       " 'anana',\n",
       " 'anana>',\n",
       " 'nan',\n",
       " 'nana',\n",
       " 'nana>',\n",
       " 'ana',\n",
       " 'ana>',\n",
       " 'na>']"
      ]
     },
     "execution_count": 23,
     "metadata": {},
     "output_type": "execute_result"
    }
   ],
   "source": [
    "model.get_subwords('bananananana')[0]"
   ]
  },
  {
   "cell_type": "code",
   "execution_count": 0,
   "metadata": {},
   "outputs": [],
   "source": [
    "v = model.get_input_vector(0)"
   ]
  },
  {
   "cell_type": "code",
   "execution_count": 0,
   "metadata": {},
   "outputs": [],
   "source": [
    "v2 = np.round(255*(v-dc.min_)/(dc.max_-dc.min_)).astype(np.uint8)\n"
   ]
  },
  {
   "cell_type": "code",
   "execution_count": 0,
   "metadata": {},
   "outputs": [],
   "source": [
    "(dc.bytes_to_vec(dc.ngrams[',']) - v).sum()"
   ]
  },
  {
   "cell_type": "code",
   "execution_count": 0,
   "metadata": {},
   "outputs": [],
   "source": [
    "dc.max_, v.max()"
   ]
  },
  {
   "cell_type": "code",
   "execution_count": 0,
   "metadata": {},
   "outputs": [],
   "source": [
    "dc.ngrams"
   ]
  },
  {
   "cell_type": "code",
   "execution_count": 0,
   "metadata": {},
   "outputs": [],
   "source": [
    "dc.info()"
   ]
  }
 ],
 "metadata": {
  "kernelspec": {
   "display_name": "Python 3",
   "language": "python",
   "name": "python3"
  },
  "language_info": {
   "codemirror_mode": {
    "name": "ipython",
    "version": 3
   },
   "file_extension": ".py",
   "mimetype": "text/x-python",
   "name": "python",
   "nbconvert_exporter": "python",
   "pygments_lexer": "ipython3",
   "version": "3.5.2"
  }
 },
 "nbformat": 4,
 "nbformat_minor": 2
}
